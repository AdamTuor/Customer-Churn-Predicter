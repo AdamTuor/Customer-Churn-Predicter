{
 "cells": [
  {
   "cell_type": "code",
   "execution_count": 358,
   "metadata": {},
   "outputs": [],
   "source": [
    "import pandas as pd"
   ]
  },
  {
   "cell_type": "code",
   "execution_count": 359,
   "metadata": {},
   "outputs": [],
   "source": [
    "data = pd.read_csv('Resources/primary_schools.csv')\n",
    "df = pd.DataFrame(data)"
   ]
  },
  {
   "cell_type": "code",
   "execution_count": 360,
   "metadata": {},
   "outputs": [],
   "source": [
    "df = df.drop(columns='Unnamed: 0')"
   ]
  },
  {
   "attachments": {},
   "cell_type": "markdown",
   "metadata": {},
   "source": [
    "Might need to bin these.  Test with all values first"
   ]
  },
  {
   "cell_type": "code",
   "execution_count": 361,
   "metadata": {},
   "outputs": [
    {
     "data": {
      "text/html": [
       "<div>\n",
       "<style scoped>\n",
       "    .dataframe tbody tr th:only-of-type {\n",
       "        vertical-align: middle;\n",
       "    }\n",
       "\n",
       "    .dataframe tbody tr th {\n",
       "        vertical-align: top;\n",
       "    }\n",
       "\n",
       "    .dataframe thead th {\n",
       "        text-align: right;\n",
       "    }\n",
       "</style>\n",
       "<table border=\"1\" class=\"dataframe\">\n",
       "  <thead>\n",
       "    <tr style=\"text-align: right;\">\n",
       "      <th></th>\n",
       "      <th>Board Number</th>\n",
       "      <th>Board Name</th>\n",
       "      <th>Board Type</th>\n",
       "      <th>School Number</th>\n",
       "      <th>School Name</th>\n",
       "      <th>School Type</th>\n",
       "      <th>School Special Condition Code</th>\n",
       "      <th>School Level</th>\n",
       "      <th>School Language</th>\n",
       "      <th>Grade Range</th>\n",
       "      <th>...</th>\n",
       "      <th>Percentage of Grade 6 Students Achieving the Provincial Standard in Reading</th>\n",
       "      <th>Change in Grade 6 Reading Achievement Over Three Years</th>\n",
       "      <th>Percentage of Grade 6 Students Achieving the Provincial Standard in Writing</th>\n",
       "      <th>Change in Grade 6 Writing Achievement Over Three Years</th>\n",
       "      <th>Percentage of Grade 6 Students Achieving the Provincial Standard in Mathematics</th>\n",
       "      <th>Change in Grade 6 Mathematics Achievement Over Three Years</th>\n",
       "      <th>Percentage of School-Aged Children Who Live in Low-Income Households</th>\n",
       "      <th>Percentage of Students Whose Parents Have No Degree, Diploma or Certificate</th>\n",
       "      <th>Extract Date</th>\n",
       "      <th>Year</th>\n",
       "    </tr>\n",
       "  </thead>\n",
       "  <tbody>\n",
       "    <tr>\n",
       "      <th>0</th>\n",
       "      <td>B28010</td>\n",
       "      <td>Algoma DSB</td>\n",
       "      <td>Pub Dist Sch Brd (E/F)</td>\n",
       "      <td>19186</td>\n",
       "      <td>Anna McCrea Public School</td>\n",
       "      <td>Public</td>\n",
       "      <td>Not applicable</td>\n",
       "      <td>Elementary</td>\n",
       "      <td>English</td>\n",
       "      <td>JK-8</td>\n",
       "      <td>...</td>\n",
       "      <td>86%</td>\n",
       "      <td>-14.0</td>\n",
       "      <td>43%</td>\n",
       "      <td>-46.0</td>\n",
       "      <td>36%</td>\n",
       "      <td>-36.0</td>\n",
       "      <td>10</td>\n",
       "      <td>0</td>\n",
       "      <td>2021-10-07 00:00:00</td>\n",
       "      <td>2017</td>\n",
       "    </tr>\n",
       "    <tr>\n",
       "      <th>1</th>\n",
       "      <td>B28010</td>\n",
       "      <td>Algoma DSB</td>\n",
       "      <td>Pub Dist Sch Brd (E/F)</td>\n",
       "      <td>67679</td>\n",
       "      <td>Arthur Henderson Public School</td>\n",
       "      <td>Public</td>\n",
       "      <td>Not applicable</td>\n",
       "      <td>Elementary</td>\n",
       "      <td>English</td>\n",
       "      <td>JK-8</td>\n",
       "      <td>...</td>\n",
       "      <td>N/D</td>\n",
       "      <td>NaN</td>\n",
       "      <td>N/D</td>\n",
       "      <td>NaN</td>\n",
       "      <td>N/D</td>\n",
       "      <td>NaN</td>\n",
       "      <td>30</td>\n",
       "      <td>20</td>\n",
       "      <td>2021-10-07 00:00:00</td>\n",
       "      <td>2017</td>\n",
       "    </tr>\n",
       "    <tr>\n",
       "      <th>2</th>\n",
       "      <td>B28010</td>\n",
       "      <td>Algoma DSB</td>\n",
       "      <td>Pub Dist Sch Brd (E/F)</td>\n",
       "      <td>43362</td>\n",
       "      <td>Ben R McMullin Public School</td>\n",
       "      <td>Public</td>\n",
       "      <td>Not applicable</td>\n",
       "      <td>Elementary</td>\n",
       "      <td>English</td>\n",
       "      <td>JK-8</td>\n",
       "      <td>...</td>\n",
       "      <td>50%</td>\n",
       "      <td>-7.0</td>\n",
       "      <td>42%</td>\n",
       "      <td>-29.0</td>\n",
       "      <td>25%</td>\n",
       "      <td>-4.0</td>\n",
       "      <td>30</td>\n",
       "      <td>10</td>\n",
       "      <td>2021-10-07 00:00:00</td>\n",
       "      <td>2017</td>\n",
       "    </tr>\n",
       "    <tr>\n",
       "      <th>3</th>\n",
       "      <td>B28010</td>\n",
       "      <td>Algoma DSB</td>\n",
       "      <td>Pub Dist Sch Brd (E/F)</td>\n",
       "      <td>54542</td>\n",
       "      <td>Blind River Public School</td>\n",
       "      <td>Public</td>\n",
       "      <td>Not applicable</td>\n",
       "      <td>Elementary</td>\n",
       "      <td>English</td>\n",
       "      <td>JK-8</td>\n",
       "      <td>...</td>\n",
       "      <td>78%</td>\n",
       "      <td>7.0</td>\n",
       "      <td>28%</td>\n",
       "      <td>-43.0</td>\n",
       "      <td>22%</td>\n",
       "      <td>-11.0</td>\n",
       "      <td>25</td>\n",
       "      <td>5</td>\n",
       "      <td>2021-10-07 00:00:00</td>\n",
       "      <td>2017</td>\n",
       "    </tr>\n",
       "    <tr>\n",
       "      <th>4</th>\n",
       "      <td>B28010</td>\n",
       "      <td>Algoma DSB</td>\n",
       "      <td>Pub Dist Sch Brd (E/F)</td>\n",
       "      <td>490822</td>\n",
       "      <td>Boreal French Immersion Public School</td>\n",
       "      <td>Public</td>\n",
       "      <td>Not applicable</td>\n",
       "      <td>Elementary</td>\n",
       "      <td>English</td>\n",
       "      <td>1-8</td>\n",
       "      <td>...</td>\n",
       "      <td>90%</td>\n",
       "      <td>5.0</td>\n",
       "      <td>86%</td>\n",
       "      <td>10.0</td>\n",
       "      <td>71%</td>\n",
       "      <td>5.0</td>\n",
       "      <td>15</td>\n",
       "      <td>0</td>\n",
       "      <td>2021-10-07 00:00:00</td>\n",
       "      <td>2017</td>\n",
       "    </tr>\n",
       "  </tbody>\n",
       "</table>\n",
       "<p>5 rows × 44 columns</p>\n",
       "</div>"
      ],
      "text/plain": [
       "  Board Number  Board Name              Board Type School Number  \\\n",
       "0       B28010  Algoma DSB  Pub Dist Sch Brd (E/F)         19186   \n",
       "1       B28010  Algoma DSB  Pub Dist Sch Brd (E/F)         67679   \n",
       "2       B28010  Algoma DSB  Pub Dist Sch Brd (E/F)         43362   \n",
       "3       B28010  Algoma DSB  Pub Dist Sch Brd (E/F)         54542   \n",
       "4       B28010  Algoma DSB  Pub Dist Sch Brd (E/F)        490822   \n",
       "\n",
       "                             School Name School Type  \\\n",
       "0              Anna McCrea Public School      Public   \n",
       "1         Arthur Henderson Public School      Public   \n",
       "2           Ben R McMullin Public School      Public   \n",
       "3              Blind River Public School      Public   \n",
       "4  Boreal French Immersion Public School      Public   \n",
       "\n",
       "  School Special Condition Code School Level School Language Grade Range  ...  \\\n",
       "0                Not applicable   Elementary         English        JK-8  ...   \n",
       "1                Not applicable   Elementary         English        JK-8  ...   \n",
       "2                Not applicable   Elementary         English        JK-8  ...   \n",
       "3                Not applicable   Elementary         English        JK-8  ...   \n",
       "4                Not applicable   Elementary         English         1-8  ...   \n",
       "\n",
       "  Percentage of Grade 6 Students Achieving the Provincial Standard in Reading  \\\n",
       "0                                                86%                            \n",
       "1                                                N/D                            \n",
       "2                                                50%                            \n",
       "3                                                78%                            \n",
       "4                                                90%                            \n",
       "\n",
       "  Change in Grade 6 Reading Achievement Over Three Years  \\\n",
       "0                                              -14.0       \n",
       "1                                                NaN       \n",
       "2                                               -7.0       \n",
       "3                                                7.0       \n",
       "4                                                5.0       \n",
       "\n",
       "  Percentage of Grade 6 Students Achieving the Provincial Standard in Writing  \\\n",
       "0                                                43%                            \n",
       "1                                                N/D                            \n",
       "2                                                42%                            \n",
       "3                                                28%                            \n",
       "4                                                86%                            \n",
       "\n",
       "  Change in Grade 6 Writing Achievement Over Three Years  \\\n",
       "0                                              -46.0       \n",
       "1                                                NaN       \n",
       "2                                              -29.0       \n",
       "3                                              -43.0       \n",
       "4                                               10.0       \n",
       "\n",
       "  Percentage of Grade 6 Students Achieving the Provincial Standard in Mathematics  \\\n",
       "0                                                36%                                \n",
       "1                                                N/D                                \n",
       "2                                                25%                                \n",
       "3                                                22%                                \n",
       "4                                                71%                                \n",
       "\n",
       "  Change in Grade 6 Mathematics Achievement Over Three Years  \\\n",
       "0                                              -36.0           \n",
       "1                                                NaN           \n",
       "2                                               -4.0           \n",
       "3                                              -11.0           \n",
       "4                                                5.0           \n",
       "\n",
       "  Percentage of School-Aged Children Who Live in Low-Income Households  \\\n",
       "0                                                 10                     \n",
       "1                                                 30                     \n",
       "2                                                 30                     \n",
       "3                                                 25                     \n",
       "4                                                 15                     \n",
       "\n",
       "  Percentage of Students Whose Parents Have No Degree, Diploma or Certificate  \\\n",
       "0                                                  0                            \n",
       "1                                                 20                            \n",
       "2                                                 10                            \n",
       "3                                                  5                            \n",
       "4                                                  0                            \n",
       "\n",
       "          Extract Date  Year  \n",
       "0  2021-10-07 00:00:00  2017  \n",
       "1  2021-10-07 00:00:00  2017  \n",
       "2  2021-10-07 00:00:00  2017  \n",
       "3  2021-10-07 00:00:00  2017  \n",
       "4  2021-10-07 00:00:00  2017  \n",
       "\n",
       "[5 rows x 44 columns]"
      ]
     },
     "execution_count": 361,
     "metadata": {},
     "output_type": "execute_result"
    }
   ],
   "source": [
    "df.head()"
   ]
  },
  {
   "cell_type": "code",
   "execution_count": 362,
   "metadata": {},
   "outputs": [],
   "source": [
    "mask = df.isnull()"
   ]
  },
  {
   "cell_type": "code",
   "execution_count": 363,
   "metadata": {},
   "outputs": [],
   "source": [
    "df_with_nulls = df[mask.any(axis=1)]\n",
    "df_without_nulls = df[~mask.any(axis=1)]"
   ]
  },
  {
   "cell_type": "code",
   "execution_count": 364,
   "metadata": {},
   "outputs": [
    {
     "name": "stdout",
     "output_type": "stream",
     "text": [
      "Empty DataFrame\n",
      "Columns: []\n",
      "Index: []\n"
     ]
    }
   ],
   "source": [
    "correlation_matrix = df[['Percentage of Grade 3 Students Achieving the Provincial Standard in Reading', \n",
    "                         'Percentage of Grade 3 Students Achieving the Provincial Standard in Writing']].corr()\n",
    "\n",
    "print(correlation_matrix)"
   ]
  },
  {
   "cell_type": "code",
   "execution_count": 365,
   "metadata": {},
   "outputs": [
    {
     "data": {
      "text/plain": [
       "Index(['Board Number', 'Board Name', 'Board Type', 'School Number',\n",
       "       'School Name', 'School Type', 'School Special Condition Code',\n",
       "       'School Level', 'School Language', 'Grade Range', 'Street',\n",
       "       'Municipality', 'City', 'Province', 'Postal Code', 'Phone Number',\n",
       "       'Fax Number', 'School Website', 'Board Website', 'Enrolment',\n",
       "       'Latitude', 'Longitude',\n",
       "       'Percentage of Students Whose First Language Is Not English',\n",
       "       'Percentage of Students Whose First Language Is Not French',\n",
       "       'Percentage of Students Who Are New to Canada from a Non-English Speaking Country',\n",
       "       'Percentage of Students Who Are New to Canada from a Non-French Speaking Country',\n",
       "       'Percentage of Students Receiving Special Education Services',\n",
       "       'Percentage of Students Identified as Gifted',\n",
       "       'Percentage of Grade 3 Students Achieving the Provincial Standard in Reading',\n",
       "       'Change in Grade 3 Reading Achievement Over Three Years',\n",
       "       'Percentage of Grade 3 Students Achieving the Provincial Standard in Writing',\n",
       "       'Change in Grade 3 Writing Achievement Over Three Years',\n",
       "       'Percentage of Grade 3 Students Achieving the Provincial Standard in Mathematics',\n",
       "       'Change in Grade 3 Mathematics Achievement Over Three Years',\n",
       "       'Percentage of Grade 6 Students Achieving the Provincial Standard in Reading',\n",
       "       'Change in Grade 6 Reading Achievement Over Three Years',\n",
       "       'Percentage of Grade 6 Students Achieving the Provincial Standard in Writing',\n",
       "       'Change in Grade 6 Writing Achievement Over Three Years',\n",
       "       'Percentage of Grade 6 Students Achieving the Provincial Standard in Mathematics',\n",
       "       'Change in Grade 6 Mathematics Achievement Over Three Years',\n",
       "       'Percentage of School-Aged Children Who Live in Low-Income Households',\n",
       "       'Percentage of Students Whose Parents Have No Degree, Diploma or Certificate',\n",
       "       'Extract Date', 'Year'],\n",
       "      dtype='object')"
      ]
     },
     "execution_count": 365,
     "metadata": {},
     "output_type": "execute_result"
    }
   ],
   "source": [
    "df.columns"
   ]
  },
  {
   "cell_type": "code",
   "execution_count": 366,
   "metadata": {},
   "outputs": [
    {
     "data": {
      "text/plain": [
       "Toronto             1228\n",
       "Mississauga          688\n",
       "Brampton             576\n",
       "Scarborough          550\n",
       "North York           451\n",
       "                    ... \n",
       "Serpent River          3\n",
       "Town of Milton         3\n",
       "Bruce Mines            2\n",
       "Rockton, Ontario       2\n",
       "Cavan monaghan         2\n",
       "Name: City, Length: 722, dtype: int64"
      ]
     },
     "execution_count": 366,
     "metadata": {},
     "output_type": "execute_result"
    }
   ],
   "source": [
    "df['City'].value_counts()"
   ]
  },
  {
   "cell_type": "code",
   "execution_count": 367,
   "metadata": {},
   "outputs": [],
   "source": [
    "primary_filtered = df_without_nulls.drop(columns=['Extract Date','Board Name', 'Board Number','City', 'Postal Code','School Number','School Level','Municipality','School Special Condition Code','Street','Province','Phone Number','Fax Number', 'School Website', 'Board Website'])"
   ]
  },
  {
   "cell_type": "code",
   "execution_count": 368,
   "metadata": {},
   "outputs": [],
   "source": [
    "mask = primary_filtered.isnull()"
   ]
  },
  {
   "cell_type": "code",
   "execution_count": 369,
   "metadata": {},
   "outputs": [],
   "source": [
    "df_with_nulls = primary_filtered[mask.any(axis=1)]\n",
    "primary_filtered = primary_filtered[~mask.any(axis=1)]"
   ]
  },
  {
   "cell_type": "code",
   "execution_count": 370,
   "metadata": {},
   "outputs": [],
   "source": [
    "#columns_to_keep = ['School Type','School Language','Enrolment','Percentage of Students Whose First Language Is Not English','Percentage of Students Whose First Language Is Not French','Percentage of Students Receiving Special Education Services','Percentage of Students Identified as Gifted','Latitude','Longitude','Percentage of School-Aged Children Who Live in Low-Income Households','Percentage of Students Whose Parents Have No Degree, Diploma or Certificate','Year']"
   ]
  },
  {
   "cell_type": "code",
   "execution_count": 371,
   "metadata": {},
   "outputs": [
    {
     "data": {
      "text/plain": [
       "Board Type                                                                           object\n",
       "School Name                                                                          object\n",
       "School Type                                                                          object\n",
       "School Language                                                                      object\n",
       "Grade Range                                                                          object\n",
       "Enrolment                                                                            object\n",
       "Latitude                                                                            float64\n",
       "Longitude                                                                           float64\n",
       "Percentage of Students Whose First Language Is Not English                           object\n",
       "Percentage of Students Whose First Language Is Not French                            object\n",
       "Percentage of Students Who Are New to Canada from a Non-English Speaking Country     object\n",
       "Percentage of Students Who Are New to Canada from a Non-French Speaking Country      object\n",
       "Percentage of Students Receiving Special Education Services                          object\n",
       "Percentage of Students Identified as Gifted                                          object\n",
       "Percentage of Grade 3 Students Achieving the Provincial Standard in Reading          object\n",
       "Change in Grade 3 Reading Achievement Over Three Years                              float64\n",
       "Percentage of Grade 3 Students Achieving the Provincial Standard in Writing          object\n",
       "Change in Grade 3 Writing Achievement Over Three Years                              float64\n",
       "Percentage of Grade 3 Students Achieving the Provincial Standard in Mathematics      object\n",
       "Change in Grade 3 Mathematics Achievement Over Three Years                          float64\n",
       "Percentage of Grade 6 Students Achieving the Provincial Standard in Reading          object\n",
       "Change in Grade 6 Reading Achievement Over Three Years                              float64\n",
       "Percentage of Grade 6 Students Achieving the Provincial Standard in Writing          object\n",
       "Change in Grade 6 Writing Achievement Over Three Years                              float64\n",
       "Percentage of Grade 6 Students Achieving the Provincial Standard in Mathematics      object\n",
       "Change in Grade 6 Mathematics Achievement Over Three Years                          float64\n",
       "Percentage of School-Aged Children Who Live in Low-Income Households                 object\n",
       "Percentage of Students Whose Parents Have No Degree, Diploma or Certificate          object\n",
       "Year                                                                                  int64\n",
       "dtype: object"
      ]
     },
     "execution_count": 371,
     "metadata": {},
     "output_type": "execute_result"
    }
   ],
   "source": [
    "primary_filtered.dtypes"
   ]
  },
  {
   "cell_type": "code",
   "execution_count": 372,
   "metadata": {},
   "outputs": [
    {
     "data": {
      "text/plain": [
       "10509"
      ]
     },
     "execution_count": 372,
     "metadata": {},
     "output_type": "execute_result"
    }
   ],
   "source": [
    "len(df_without_nulls)"
   ]
  },
  {
   "cell_type": "code",
   "execution_count": 373,
   "metadata": {},
   "outputs": [
    {
     "data": {
      "text/plain": [
       "0"
      ]
     },
     "execution_count": 373,
     "metadata": {},
     "output_type": "execute_result"
    }
   ],
   "source": [
    "len(df_with_nulls)"
   ]
  },
  {
   "cell_type": "code",
   "execution_count": 374,
   "metadata": {},
   "outputs": [
    {
     "data": {
      "text/html": [
       "<div>\n",
       "<style scoped>\n",
       "    .dataframe tbody tr th:only-of-type {\n",
       "        vertical-align: middle;\n",
       "    }\n",
       "\n",
       "    .dataframe tbody tr th {\n",
       "        vertical-align: top;\n",
       "    }\n",
       "\n",
       "    .dataframe thead th {\n",
       "        text-align: right;\n",
       "    }\n",
       "</style>\n",
       "<table border=\"1\" class=\"dataframe\">\n",
       "  <thead>\n",
       "    <tr style=\"text-align: right;\">\n",
       "      <th></th>\n",
       "      <th>Board Type</th>\n",
       "      <th>School Name</th>\n",
       "      <th>School Type</th>\n",
       "      <th>School Language</th>\n",
       "      <th>Grade Range</th>\n",
       "      <th>Enrolment</th>\n",
       "      <th>Latitude</th>\n",
       "      <th>Longitude</th>\n",
       "      <th>Percentage of Students Whose First Language Is Not English</th>\n",
       "      <th>Percentage of Students Whose First Language Is Not French</th>\n",
       "      <th>...</th>\n",
       "      <th>Change in Grade 3 Mathematics Achievement Over Three Years</th>\n",
       "      <th>Percentage of Grade 6 Students Achieving the Provincial Standard in Reading</th>\n",
       "      <th>Change in Grade 6 Reading Achievement Over Three Years</th>\n",
       "      <th>Percentage of Grade 6 Students Achieving the Provincial Standard in Writing</th>\n",
       "      <th>Change in Grade 6 Writing Achievement Over Three Years</th>\n",
       "      <th>Percentage of Grade 6 Students Achieving the Provincial Standard in Mathematics</th>\n",
       "      <th>Change in Grade 6 Mathematics Achievement Over Three Years</th>\n",
       "      <th>Percentage of School-Aged Children Who Live in Low-Income Households</th>\n",
       "      <th>Percentage of Students Whose Parents Have No Degree, Diploma or Certificate</th>\n",
       "      <th>Year</th>\n",
       "    </tr>\n",
       "  </thead>\n",
       "  <tbody>\n",
       "    <tr>\n",
       "      <th>0</th>\n",
       "      <td>Pub Dist Sch Brd (E/F)</td>\n",
       "      <td>Anna McCrea Public School</td>\n",
       "      <td>Public</td>\n",
       "      <td>English</td>\n",
       "      <td>JK-8</td>\n",
       "      <td>180</td>\n",
       "      <td>46.50593</td>\n",
       "      <td>-84.2873</td>\n",
       "      <td>0</td>\n",
       "      <td>100</td>\n",
       "      <td>...</td>\n",
       "      <td>-7.0</td>\n",
       "      <td>86%</td>\n",
       "      <td>-14.0</td>\n",
       "      <td>43%</td>\n",
       "      <td>-46.0</td>\n",
       "      <td>36%</td>\n",
       "      <td>-36.0</td>\n",
       "      <td>10</td>\n",
       "      <td>0</td>\n",
       "      <td>2017</td>\n",
       "    </tr>\n",
       "    <tr>\n",
       "      <th>2</th>\n",
       "      <td>Pub Dist Sch Brd (E/F)</td>\n",
       "      <td>Ben R McMullin Public School</td>\n",
       "      <td>Public</td>\n",
       "      <td>English</td>\n",
       "      <td>JK-8</td>\n",
       "      <td>175</td>\n",
       "      <td>46.52455</td>\n",
       "      <td>-84.2980</td>\n",
       "      <td>5</td>\n",
       "      <td>100</td>\n",
       "      <td>...</td>\n",
       "      <td>-41.0</td>\n",
       "      <td>50%</td>\n",
       "      <td>-7.0</td>\n",
       "      <td>42%</td>\n",
       "      <td>-29.0</td>\n",
       "      <td>25%</td>\n",
       "      <td>-4.0</td>\n",
       "      <td>30</td>\n",
       "      <td>10</td>\n",
       "      <td>2017</td>\n",
       "    </tr>\n",
       "    <tr>\n",
       "      <th>3</th>\n",
       "      <td>Pub Dist Sch Brd (E/F)</td>\n",
       "      <td>Blind River Public School</td>\n",
       "      <td>Public</td>\n",
       "      <td>English</td>\n",
       "      <td>JK-8</td>\n",
       "      <td>150</td>\n",
       "      <td>46.18454</td>\n",
       "      <td>-82.9576</td>\n",
       "      <td>5</td>\n",
       "      <td>100</td>\n",
       "      <td>...</td>\n",
       "      <td>-17.0</td>\n",
       "      <td>78%</td>\n",
       "      <td>7.0</td>\n",
       "      <td>28%</td>\n",
       "      <td>-43.0</td>\n",
       "      <td>22%</td>\n",
       "      <td>-11.0</td>\n",
       "      <td>25</td>\n",
       "      <td>5</td>\n",
       "      <td>2017</td>\n",
       "    </tr>\n",
       "    <tr>\n",
       "      <th>5</th>\n",
       "      <td>Pub Dist Sch Brd (E/F)</td>\n",
       "      <td>Central Algoma Elementary School</td>\n",
       "      <td>Public</td>\n",
       "      <td>English</td>\n",
       "      <td>JK-8</td>\n",
       "      <td>115</td>\n",
       "      <td>46.34875</td>\n",
       "      <td>-83.9253</td>\n",
       "      <td>5</td>\n",
       "      <td>100</td>\n",
       "      <td>...</td>\n",
       "      <td>12.0</td>\n",
       "      <td>80%</td>\n",
       "      <td>-20.0</td>\n",
       "      <td>70%</td>\n",
       "      <td>-3.0</td>\n",
       "      <td>50%</td>\n",
       "      <td>-32.0</td>\n",
       "      <td>30</td>\n",
       "      <td>25</td>\n",
       "      <td>2017</td>\n",
       "    </tr>\n",
       "    <tr>\n",
       "      <th>7</th>\n",
       "      <td>Pub Dist Sch Brd (E/F)</td>\n",
       "      <td>Central Avenue Public School</td>\n",
       "      <td>Public</td>\n",
       "      <td>English</td>\n",
       "      <td>JK-8</td>\n",
       "      <td>275</td>\n",
       "      <td>46.39040</td>\n",
       "      <td>-82.6588</td>\n",
       "      <td>5</td>\n",
       "      <td>95</td>\n",
       "      <td>...</td>\n",
       "      <td>-19.0</td>\n",
       "      <td>42%</td>\n",
       "      <td>-38.0</td>\n",
       "      <td>45%</td>\n",
       "      <td>-22.0</td>\n",
       "      <td>16%</td>\n",
       "      <td>-27.0</td>\n",
       "      <td>30</td>\n",
       "      <td>15</td>\n",
       "      <td>2017</td>\n",
       "    </tr>\n",
       "  </tbody>\n",
       "</table>\n",
       "<p>5 rows × 29 columns</p>\n",
       "</div>"
      ],
      "text/plain": [
       "               Board Type                       School Name School Type  \\\n",
       "0  Pub Dist Sch Brd (E/F)         Anna McCrea Public School      Public   \n",
       "2  Pub Dist Sch Brd (E/F)      Ben R McMullin Public School      Public   \n",
       "3  Pub Dist Sch Brd (E/F)         Blind River Public School      Public   \n",
       "5  Pub Dist Sch Brd (E/F)  Central Algoma Elementary School      Public   \n",
       "7  Pub Dist Sch Brd (E/F)      Central Avenue Public School      Public   \n",
       "\n",
       "  School Language Grade Range Enrolment  Latitude  Longitude  \\\n",
       "0         English        JK-8       180  46.50593   -84.2873   \n",
       "2         English        JK-8       175  46.52455   -84.2980   \n",
       "3         English        JK-8       150  46.18454   -82.9576   \n",
       "5         English        JK-8       115  46.34875   -83.9253   \n",
       "7         English        JK-8       275  46.39040   -82.6588   \n",
       "\n",
       "  Percentage of Students Whose First Language Is Not English  \\\n",
       "0                                                  0           \n",
       "2                                                  5           \n",
       "3                                                  5           \n",
       "5                                                  5           \n",
       "7                                                  5           \n",
       "\n",
       "  Percentage of Students Whose First Language Is Not French  ...  \\\n",
       "0                                                100         ...   \n",
       "2                                                100         ...   \n",
       "3                                                100         ...   \n",
       "5                                                100         ...   \n",
       "7                                                 95         ...   \n",
       "\n",
       "  Change in Grade 3 Mathematics Achievement Over Three Years  \\\n",
       "0                                               -7.0           \n",
       "2                                              -41.0           \n",
       "3                                              -17.0           \n",
       "5                                               12.0           \n",
       "7                                              -19.0           \n",
       "\n",
       "  Percentage of Grade 6 Students Achieving the Provincial Standard in Reading  \\\n",
       "0                                                86%                            \n",
       "2                                                50%                            \n",
       "3                                                78%                            \n",
       "5                                                80%                            \n",
       "7                                                42%                            \n",
       "\n",
       "  Change in Grade 6 Reading Achievement Over Three Years  \\\n",
       "0                                              -14.0       \n",
       "2                                               -7.0       \n",
       "3                                                7.0       \n",
       "5                                              -20.0       \n",
       "7                                              -38.0       \n",
       "\n",
       "  Percentage of Grade 6 Students Achieving the Provincial Standard in Writing  \\\n",
       "0                                                43%                            \n",
       "2                                                42%                            \n",
       "3                                                28%                            \n",
       "5                                                70%                            \n",
       "7                                                45%                            \n",
       "\n",
       "  Change in Grade 6 Writing Achievement Over Three Years  \\\n",
       "0                                              -46.0       \n",
       "2                                              -29.0       \n",
       "3                                              -43.0       \n",
       "5                                               -3.0       \n",
       "7                                              -22.0       \n",
       "\n",
       "   Percentage of Grade 6 Students Achieving the Provincial Standard in Mathematics  \\\n",
       "0                                                36%                                 \n",
       "2                                                25%                                 \n",
       "3                                                22%                                 \n",
       "5                                                50%                                 \n",
       "7                                                16%                                 \n",
       "\n",
       "  Change in Grade 6 Mathematics Achievement Over Three Years  \\\n",
       "0                                              -36.0           \n",
       "2                                               -4.0           \n",
       "3                                              -11.0           \n",
       "5                                              -32.0           \n",
       "7                                              -27.0           \n",
       "\n",
       "   Percentage of School-Aged Children Who Live in Low-Income Households  \\\n",
       "0                                                 10                      \n",
       "2                                                 30                      \n",
       "3                                                 25                      \n",
       "5                                                 30                      \n",
       "7                                                 30                      \n",
       "\n",
       "  Percentage of Students Whose Parents Have No Degree, Diploma or Certificate  \\\n",
       "0                                                  0                            \n",
       "2                                                 10                            \n",
       "3                                                  5                            \n",
       "5                                                 25                            \n",
       "7                                                 15                            \n",
       "\n",
       "   Year  \n",
       "0  2017  \n",
       "2  2017  \n",
       "3  2017  \n",
       "5  2017  \n",
       "7  2017  \n",
       "\n",
       "[5 rows x 29 columns]"
      ]
     },
     "execution_count": 374,
     "metadata": {},
     "output_type": "execute_result"
    }
   ],
   "source": [
    "primary_filtered.head()"
   ]
  },
  {
   "cell_type": "code",
   "execution_count": 375,
   "metadata": {},
   "outputs": [
    {
     "data": {
      "text/plain": [
       "Board Type                                                                           object\n",
       "School Name                                                                          object\n",
       "School Type                                                                          object\n",
       "School Language                                                                      object\n",
       "Grade Range                                                                          object\n",
       "Enrolment                                                                            object\n",
       "Latitude                                                                            float64\n",
       "Longitude                                                                           float64\n",
       "Percentage of Students Whose First Language Is Not English                           object\n",
       "Percentage of Students Whose First Language Is Not French                            object\n",
       "Percentage of Students Who Are New to Canada from a Non-English Speaking Country     object\n",
       "Percentage of Students Who Are New to Canada from a Non-French Speaking Country      object\n",
       "Percentage of Students Receiving Special Education Services                          object\n",
       "Percentage of Students Identified as Gifted                                          object\n",
       "Percentage of Grade 3 Students Achieving the Provincial Standard in Reading          object\n",
       "Change in Grade 3 Reading Achievement Over Three Years                              float64\n",
       "Percentage of Grade 3 Students Achieving the Provincial Standard in Writing          object\n",
       "Change in Grade 3 Writing Achievement Over Three Years                              float64\n",
       "Percentage of Grade 3 Students Achieving the Provincial Standard in Mathematics      object\n",
       "Change in Grade 3 Mathematics Achievement Over Three Years                          float64\n",
       "Percentage of Grade 6 Students Achieving the Provincial Standard in Reading          object\n",
       "Change in Grade 6 Reading Achievement Over Three Years                              float64\n",
       "Percentage of Grade 6 Students Achieving the Provincial Standard in Writing          object\n",
       "Change in Grade 6 Writing Achievement Over Three Years                              float64\n",
       "Percentage of Grade 6 Students Achieving the Provincial Standard in Mathematics      object\n",
       "Change in Grade 6 Mathematics Achievement Over Three Years                          float64\n",
       "Percentage of School-Aged Children Who Live in Low-Income Households                 object\n",
       "Percentage of Students Whose Parents Have No Degree, Diploma or Certificate          object\n",
       "Year                                                                                  int64\n",
       "dtype: object"
      ]
     },
     "execution_count": 375,
     "metadata": {},
     "output_type": "execute_result"
    }
   ],
   "source": [
    "primary_filtered.dtypes"
   ]
  },
  {
   "attachments": {},
   "cell_type": "markdown",
   "metadata": {},
   "source": [
    "## Standardize Percentages"
   ]
  },
  {
   "cell_type": "code",
   "execution_count": 376,
   "metadata": {},
   "outputs": [],
   "source": [
    "percentage_columns = ['Percentage of Students Whose First Language Is Not English',\n",
    "                      'Percentage of Students Whose First Language Is Not French',\n",
    "                      'Percentage of Students Who Are New to Canada from a Non-English Speaking Country',\n",
    "                      'Percentage of Students Who Are New to Canada from a Non-French Speaking Country',\n",
    "                      'Percentage of Students Receiving Special Education Services',\n",
    "                      'Percentage of Students Identified as Gifted',\n",
    "                      'Percentage of Grade 3 Students Achieving the Provincial Standard in Reading',\n",
    "                      'Change in Grade 3 Reading Achievement Over Three Years',\n",
    "                      'Percentage of Grade 3 Students Achieving the Provincial Standard in Writing',\n",
    "                      'Change in Grade 3 Writing Achievement Over Three Years',\n",
    "                      'Percentage of Grade 3 Students Achieving the Provincial Standard in Mathematics',\n",
    "                      'Change in Grade 3 Mathematics Achievement Over Three Years',\n",
    "                      'Percentage of Grade 6 Students Achieving the Provincial Standard in Reading',\n",
    "                      'Change in Grade 6 Reading Achievement Over Three Years',\n",
    "                      'Percentage of Grade 6 Students Achieving the Provincial Standard in Writing',\n",
    "                      'Change in Grade 6 Writing Achievement Over Three Years',\n",
    "                      'Percentage of Grade 6 Students Achieving the Provincial Standard in Mathematics',\n",
    "                      'Change in Grade 6 Mathematics Achievement Over Three Years',\n",
    "                      'Percentage of School-Aged Children Who Live in Low-Income Households',\n",
    "                      'Percentage of Students Whose Parents Have No Degree, Diploma or Certificate']"
   ]
  },
  {
   "cell_type": "code",
   "execution_count": 377,
   "metadata": {},
   "outputs": [],
   "source": [
    "# Removing 'SP' values which indicate a small student population which does not report to protect privacy.\n",
    "mask = primary_filtered[percentage_columns].eq('SP').any(axis=1)\n",
    "primary_filtered = primary_filtered[~mask]"
   ]
  },
  {
   "cell_type": "code",
   "execution_count": 378,
   "metadata": {},
   "outputs": [],
   "source": [
    "primary_filtered[percentage_columns] = primary_filtered[percentage_columns].replace('%', '', regex=True).astype(float)"
   ]
  },
  {
   "cell_type": "code",
   "execution_count": 379,
   "metadata": {},
   "outputs": [
    {
     "data": {
      "text/plain": [
       "array([  0.,   5.,  10.,   3.,   2.,  90.,   8.,  40.,   7.,  50.,  30.,\n",
       "        60.,  65.,  73.,  70.,  55.,  45.,  20.,  75.,  35.,  80.,  85.,\n",
       "        89.,  95., 100.,  91.,  78.,  52.,  72.,  44.,  83.,  68.,  61.,\n",
       "        12.,  16.,  15.,  79.,  66.,  62.,  63.,  25.,  23.,   6.,  46.,\n",
       "        29.,  28.,  14.,  26.,  64.,  21.,  19.,   4.,  27.,  38.,  34.,\n",
       "        18.,  13.,   1.,  11.,  99.,  98.,   9.,  17.,  22.,  56.,  47.,\n",
       "        53.,  48.,  49.,  37.,  54.,  39.,  43.,  32.,  36.,  24.,  33.,\n",
       "        76.,  71.,  58.,  74.,  42.,  51.,  86.,  67.,  41.,  31.,  88.,\n",
       "        59.,  93.,  84.,  77.,  57.,  87.,  69.,  92.,  82.,  81.])"
      ]
     },
     "execution_count": 379,
     "metadata": {},
     "output_type": "execute_result"
    }
   ],
   "source": [
    "primary_filtered['Percentage of Students Whose First Language Is Not English'].unique()"
   ]
  },
  {
   "cell_type": "code",
   "execution_count": 380,
   "metadata": {},
   "outputs": [],
   "source": [
    "primary_filtered[percentage_columns] = primary_filtered[percentage_columns].apply(lambda x: x / 100 if x.max() > 1 else x)"
   ]
  },
  {
   "cell_type": "code",
   "execution_count": 381,
   "metadata": {},
   "outputs": [],
   "source": [
    "# Save the school name for later analysis\n",
    "primary_school_names = primary_filtered[['School Name']].copy()\n"
   ]
  },
  {
   "cell_type": "code",
   "execution_count": 382,
   "metadata": {},
   "outputs": [],
   "source": [
    "primary_filtered.drop(columns='School Name',inplace=True)"
   ]
  },
  {
   "cell_type": "code",
   "execution_count": 383,
   "metadata": {},
   "outputs": [
    {
     "name": "stdout",
     "output_type": "stream",
     "text": [
      "                                                    Percentage of Grade 3 Students Achieving the Provincial Standard in Reading  \\\n",
      "Percentage of Grade 3 Students Achieving the Pr...                                           1.000000                             \n",
      "Percentage of Grade 6 Students Achieving the Pr...                                           0.653846                             \n",
      "\n",
      "                                                    Percentage of Grade 6 Students Achieving the Provincial Standard in Reading  \n",
      "Percentage of Grade 3 Students Achieving the Pr...                                           0.653846                            \n",
      "Percentage of Grade 6 Students Achieving the Pr...                                           1.000000                            \n"
     ]
    }
   ],
   "source": [
    "correlation_matrix = primary_filtered[['Percentage of Grade 3 Students Achieving the Provincial Standard in Reading', \n",
    "                         'Percentage of Grade 6 Students Achieving the Provincial Standard in Reading']].corr()\n",
    "\n",
    "print(correlation_matrix)"
   ]
  },
  {
   "attachments": {},
   "cell_type": "markdown",
   "metadata": {},
   "source": [
    "## Splitting into Test/Train data"
   ]
  },
  {
   "cell_type": "code",
   "execution_count": 384,
   "metadata": {},
   "outputs": [],
   "source": [
    "from sklearn.model_selection import train_test_split"
   ]
  },
  {
   "cell_type": "code",
   "execution_count": 385,
   "metadata": {},
   "outputs": [],
   "source": [
    "y = primary_filtered['Percentage of Grade 3 Students Achieving the Provincial Standard in Reading']\n",
    "X = primary_filtered.drop(columns='Percentage of Grade 3 Students Achieving the Provincial Standard in Reading')"
   ]
  },
  {
   "cell_type": "code",
   "execution_count": 386,
   "metadata": {},
   "outputs": [],
   "source": [
    "X_train, X_test, y_train, y_test = train_test_split(X, y, test_size=0.2, random_state=42)"
   ]
  },
  {
   "attachments": {},
   "cell_type": "markdown",
   "metadata": {},
   "source": [
    "## Scaling Data"
   ]
  },
  {
   "cell_type": "code",
   "execution_count": 387,
   "metadata": {},
   "outputs": [],
   "source": [
    "from sklearn.preprocessing import StandardScaler"
   ]
  },
  {
   "cell_type": "code",
   "execution_count": 388,
   "metadata": {},
   "outputs": [],
   "source": [
    "scaler = StandardScaler()\n",
    "scaler.fit(X_train[['Enrolment', 'Latitude', 'Longitude']])\n",
    "X_train[['Enrolment', 'Latitude', 'Longitude']] = scaler.transform(X_train[['Enrolment', 'Latitude', 'Longitude']])\n",
    "X_test[['Enrolment', 'Latitude', 'Longitude']] = scaler.transform(X_test[['Enrolment', 'Latitude', 'Longitude']])"
   ]
  },
  {
   "attachments": {},
   "cell_type": "markdown",
   "metadata": {},
   "source": [
    "## Encoding Categorical Data"
   ]
  },
  {
   "cell_type": "code",
   "execution_count": 389,
   "metadata": {},
   "outputs": [],
   "source": [
    "from sklearn.preprocessing import OneHotEncoder"
   ]
  },
  {
   "cell_type": "code",
   "execution_count": 390,
   "metadata": {},
   "outputs": [],
   "source": [
    "categories = ['Board Type', \n",
    "              'School Type', \n",
    "              'School Language', \n",
    "              'Grade Range']"
   ]
  },
  {
   "cell_type": "code",
   "execution_count": 391,
   "metadata": {},
   "outputs": [],
   "source": [
    "encoder = OneHotEncoder(handle_unknown='ignore')"
   ]
  },
  {
   "cell_type": "code",
   "execution_count": 392,
   "metadata": {},
   "outputs": [],
   "source": [
    "# Fit the encoder and transform the training data\n",
    "categorical_train_data = X_train[categories]\n",
    "encoder.fit(categorical_train_data)\n",
    "encoded_train_data = encoder.transform(categorical_train_data).toarray()"
   ]
  },
  {
   "cell_type": "code",
   "execution_count": 393,
   "metadata": {},
   "outputs": [],
   "source": [
    "# Transform the test data\n",
    "categorical_test_data = X_test[categories]\n",
    "encoded_test_data = encoder.transform(categorical_test_data).toarray()"
   ]
  },
  {
   "cell_type": "code",
   "execution_count": 394,
   "metadata": {},
   "outputs": [],
   "source": [
    "encoded_train_df = pd.DataFrame(encoded_train_data, columns=encoder.get_feature_names_out(categories), index=X_train.index)\n",
    "encoded_test_df = pd.DataFrame(encoded_test_data, columns=encoder.get_feature_names_out(categories), index=X_test.index)"
   ]
  },
  {
   "cell_type": "code",
   "execution_count": 395,
   "metadata": {},
   "outputs": [],
   "source": [
    "# Concatenate the original dataframes with the new ones\n",
    "X_train_encoded = pd.concat([X_train.drop(categories, axis=1), encoded_train_df], axis=1)\n",
    "X_test_encoded = pd.concat([X_test.drop(categories, axis=1), encoded_test_df], axis=1)"
   ]
  },
  {
   "cell_type": "code",
   "execution_count": 396,
   "metadata": {},
   "outputs": [
    {
     "data": {
      "text/html": [
       "<div>\n",
       "<style scoped>\n",
       "    .dataframe tbody tr th:only-of-type {\n",
       "        vertical-align: middle;\n",
       "    }\n",
       "\n",
       "    .dataframe tbody tr th {\n",
       "        vertical-align: top;\n",
       "    }\n",
       "\n",
       "    .dataframe thead th {\n",
       "        text-align: right;\n",
       "    }\n",
       "</style>\n",
       "<table border=\"1\" class=\"dataframe\">\n",
       "  <thead>\n",
       "    <tr style=\"text-align: right;\">\n",
       "      <th></th>\n",
       "      <th>Enrolment</th>\n",
       "      <th>Latitude</th>\n",
       "      <th>Longitude</th>\n",
       "      <th>Percentage of Students Whose First Language Is Not English</th>\n",
       "      <th>Percentage of Students Whose First Language Is Not French</th>\n",
       "      <th>Percentage of Students Who Are New to Canada from a Non-English Speaking Country</th>\n",
       "      <th>Percentage of Students Who Are New to Canada from a Non-French Speaking Country</th>\n",
       "      <th>Percentage of Students Receiving Special Education Services</th>\n",
       "      <th>Percentage of Students Identified as Gifted</th>\n",
       "      <th>Change in Grade 3 Reading Achievement Over Three Years</th>\n",
       "      <th>...</th>\n",
       "      <th>Board Type_Public School Board</th>\n",
       "      <th>School Type_Catholic</th>\n",
       "      <th>School Type_Protestant Separate</th>\n",
       "      <th>School Type_Public</th>\n",
       "      <th>School Language_English</th>\n",
       "      <th>School Language_French</th>\n",
       "      <th>Grade Range_1-8</th>\n",
       "      <th>Grade Range_JK-6</th>\n",
       "      <th>Grade Range_JK-8</th>\n",
       "      <th>Grade Range_K-8</th>\n",
       "    </tr>\n",
       "  </thead>\n",
       "  <tbody>\n",
       "    <tr>\n",
       "      <th>11932</th>\n",
       "      <td>-1.382659</td>\n",
       "      <td>1.907463</td>\n",
       "      <td>-1.830471</td>\n",
       "      <td>0.00</td>\n",
       "      <td>1.00</td>\n",
       "      <td>0.00</td>\n",
       "      <td>0.00</td>\n",
       "      <td>0.15</td>\n",
       "      <td>0.0</td>\n",
       "      <td>0.16</td>\n",
       "      <td>...</td>\n",
       "      <td>0.0</td>\n",
       "      <td>0.0</td>\n",
       "      <td>0.0</td>\n",
       "      <td>1.0</td>\n",
       "      <td>1.0</td>\n",
       "      <td>0.0</td>\n",
       "      <td>0.0</td>\n",
       "      <td>1.0</td>\n",
       "      <td>0.0</td>\n",
       "      <td>0.0</td>\n",
       "    </tr>\n",
       "    <tr>\n",
       "      <th>4005</th>\n",
       "      <td>-1.178163</td>\n",
       "      <td>1.834060</td>\n",
       "      <td>-1.674402</td>\n",
       "      <td>0.00</td>\n",
       "      <td>1.00</td>\n",
       "      <td>0.00</td>\n",
       "      <td>0.00</td>\n",
       "      <td>0.20</td>\n",
       "      <td>0.0</td>\n",
       "      <td>0.06</td>\n",
       "      <td>...</td>\n",
       "      <td>0.0</td>\n",
       "      <td>0.0</td>\n",
       "      <td>0.0</td>\n",
       "      <td>1.0</td>\n",
       "      <td>1.0</td>\n",
       "      <td>0.0</td>\n",
       "      <td>0.0</td>\n",
       "      <td>1.0</td>\n",
       "      <td>0.0</td>\n",
       "      <td>0.0</td>\n",
       "    </tr>\n",
       "    <tr>\n",
       "      <th>5159</th>\n",
       "      <td>2.035338</td>\n",
       "      <td>-0.515767</td>\n",
       "      <td>-0.062672</td>\n",
       "      <td>0.50</td>\n",
       "      <td>0.99</td>\n",
       "      <td>0.11</td>\n",
       "      <td>0.12</td>\n",
       "      <td>0.07</td>\n",
       "      <td>0.0</td>\n",
       "      <td>-0.02</td>\n",
       "      <td>...</td>\n",
       "      <td>0.0</td>\n",
       "      <td>0.0</td>\n",
       "      <td>0.0</td>\n",
       "      <td>1.0</td>\n",
       "      <td>1.0</td>\n",
       "      <td>0.0</td>\n",
       "      <td>0.0</td>\n",
       "      <td>0.0</td>\n",
       "      <td>1.0</td>\n",
       "      <td>0.0</td>\n",
       "    </tr>\n",
       "    <tr>\n",
       "      <th>8232</th>\n",
       "      <td>-1.236590</td>\n",
       "      <td>-0.875836</td>\n",
       "      <td>-1.166401</td>\n",
       "      <td>0.65</td>\n",
       "      <td>0.40</td>\n",
       "      <td>0.05</td>\n",
       "      <td>0.00</td>\n",
       "      <td>0.10</td>\n",
       "      <td>0.0</td>\n",
       "      <td>-0.09</td>\n",
       "      <td>...</td>\n",
       "      <td>0.0</td>\n",
       "      <td>0.0</td>\n",
       "      <td>0.0</td>\n",
       "      <td>1.0</td>\n",
       "      <td>0.0</td>\n",
       "      <td>1.0</td>\n",
       "      <td>0.0</td>\n",
       "      <td>1.0</td>\n",
       "      <td>0.0</td>\n",
       "      <td>0.0</td>\n",
       "    </tr>\n",
       "    <tr>\n",
       "      <th>938</th>\n",
       "      <td>2.473542</td>\n",
       "      <td>-0.091592</td>\n",
       "      <td>0.326115</td>\n",
       "      <td>0.16</td>\n",
       "      <td>1.00</td>\n",
       "      <td>0.03</td>\n",
       "      <td>0.02</td>\n",
       "      <td>0.13</td>\n",
       "      <td>0.0</td>\n",
       "      <td>-0.01</td>\n",
       "      <td>...</td>\n",
       "      <td>0.0</td>\n",
       "      <td>0.0</td>\n",
       "      <td>0.0</td>\n",
       "      <td>1.0</td>\n",
       "      <td>1.0</td>\n",
       "      <td>0.0</td>\n",
       "      <td>0.0</td>\n",
       "      <td>0.0</td>\n",
       "      <td>1.0</td>\n",
       "      <td>0.0</td>\n",
       "    </tr>\n",
       "  </tbody>\n",
       "</table>\n",
       "<p>5 rows × 36 columns</p>\n",
       "</div>"
      ],
      "text/plain": [
       "       Enrolment  Latitude  Longitude  \\\n",
       "11932  -1.382659  1.907463  -1.830471   \n",
       "4005   -1.178163  1.834060  -1.674402   \n",
       "5159    2.035338 -0.515767  -0.062672   \n",
       "8232   -1.236590 -0.875836  -1.166401   \n",
       "938     2.473542 -0.091592   0.326115   \n",
       "\n",
       "       Percentage of Students Whose First Language Is Not English  \\\n",
       "11932                                               0.00            \n",
       "4005                                                0.00            \n",
       "5159                                                0.50            \n",
       "8232                                                0.65            \n",
       "938                                                 0.16            \n",
       "\n",
       "       Percentage of Students Whose First Language Is Not French  \\\n",
       "11932                                               1.00           \n",
       "4005                                                1.00           \n",
       "5159                                                0.99           \n",
       "8232                                                0.40           \n",
       "938                                                 1.00           \n",
       "\n",
       "       Percentage of Students Who Are New to Canada from a Non-English Speaking Country  \\\n",
       "11932                                               0.00                                  \n",
       "4005                                                0.00                                  \n",
       "5159                                                0.11                                  \n",
       "8232                                                0.05                                  \n",
       "938                                                 0.03                                  \n",
       "\n",
       "       Percentage of Students Who Are New to Canada from a Non-French Speaking Country  \\\n",
       "11932                                               0.00                                 \n",
       "4005                                                0.00                                 \n",
       "5159                                                0.12                                 \n",
       "8232                                                0.00                                 \n",
       "938                                                 0.02                                 \n",
       "\n",
       "       Percentage of Students Receiving Special Education Services  \\\n",
       "11932                                               0.15             \n",
       "4005                                                0.20             \n",
       "5159                                                0.07             \n",
       "8232                                                0.10             \n",
       "938                                                 0.13             \n",
       "\n",
       "       Percentage of Students Identified as Gifted  \\\n",
       "11932                                          0.0   \n",
       "4005                                           0.0   \n",
       "5159                                           0.0   \n",
       "8232                                           0.0   \n",
       "938                                            0.0   \n",
       "\n",
       "       Change in Grade 3 Reading Achievement Over Three Years  ...  \\\n",
       "11932                                               0.16       ...   \n",
       "4005                                                0.06       ...   \n",
       "5159                                               -0.02       ...   \n",
       "8232                                               -0.09       ...   \n",
       "938                                                -0.01       ...   \n",
       "\n",
       "       Board Type_Public School Board  School Type_Catholic  \\\n",
       "11932                             0.0                   0.0   \n",
       "4005                              0.0                   0.0   \n",
       "5159                              0.0                   0.0   \n",
       "8232                              0.0                   0.0   \n",
       "938                               0.0                   0.0   \n",
       "\n",
       "       School Type_Protestant Separate  School Type_Public  \\\n",
       "11932                              0.0                 1.0   \n",
       "4005                               0.0                 1.0   \n",
       "5159                               0.0                 1.0   \n",
       "8232                               0.0                 1.0   \n",
       "938                                0.0                 1.0   \n",
       "\n",
       "       School Language_English  School Language_French  Grade Range_1-8  \\\n",
       "11932                      1.0                     0.0              0.0   \n",
       "4005                       1.0                     0.0              0.0   \n",
       "5159                       1.0                     0.0              0.0   \n",
       "8232                       0.0                     1.0              0.0   \n",
       "938                        1.0                     0.0              0.0   \n",
       "\n",
       "       Grade Range_JK-6  Grade Range_JK-8  Grade Range_K-8  \n",
       "11932               1.0               0.0              0.0  \n",
       "4005                1.0               0.0              0.0  \n",
       "5159                0.0               1.0              0.0  \n",
       "8232                1.0               0.0              0.0  \n",
       "938                 0.0               1.0              0.0  \n",
       "\n",
       "[5 rows x 36 columns]"
      ]
     },
     "execution_count": 396,
     "metadata": {},
     "output_type": "execute_result"
    }
   ],
   "source": [
    "X_train_encoded.head()"
   ]
  },
  {
   "attachments": {},
   "cell_type": "markdown",
   "metadata": {},
   "source": [
    "## Model Test: LinearRegression"
   ]
  },
  {
   "cell_type": "code",
   "execution_count": 403,
   "metadata": {},
   "outputs": [],
   "source": [
    "from sklearn.linear_model import LinearRegression\n",
    "from sklearn.metrics import mean_squared_error, r2_score"
   ]
  },
  {
   "cell_type": "code",
   "execution_count": 398,
   "metadata": {},
   "outputs": [],
   "source": [
    "model = LinearRegression()"
   ]
  },
  {
   "cell_type": "code",
   "execution_count": 399,
   "metadata": {},
   "outputs": [
    {
     "data": {
      "text/plain": [
       "LinearRegression()"
      ]
     },
     "execution_count": 399,
     "metadata": {},
     "output_type": "execute_result"
    }
   ],
   "source": [
    "model.fit(X_train_encoded, y_train)"
   ]
  },
  {
   "cell_type": "code",
   "execution_count": 400,
   "metadata": {},
   "outputs": [],
   "source": [
    "y_pred = model.predict(X_test_encoded)"
   ]
  },
  {
   "cell_type": "code",
   "execution_count": 401,
   "metadata": {},
   "outputs": [
    {
     "data": {
      "text/plain": [
       "array([0.7079531 , 0.91128132, 0.8707846 , ..., 0.57488093, 0.85283116,\n",
       "       0.73033043])"
      ]
     },
     "execution_count": 401,
     "metadata": {},
     "output_type": "execute_result"
    }
   ],
   "source": [
    "y_pred"
   ]
  },
  {
   "cell_type": "code",
   "execution_count": 405,
   "metadata": {},
   "outputs": [
    {
     "name": "stdout",
     "output_type": "stream",
     "text": [
      "Mean Squared Error: 0.0031985119092360157\n",
      "Score: 0.8786991848716774\n"
     ]
    }
   ],
   "source": [
    "mse = mean_squared_error(y_test, y_pred)\n",
    "score = model.score(X_test_encoded,y_test)\n",
    "print(f'Mean Squared Error: {mse}\\nScore: {score}')"
   ]
  }
 ],
 "metadata": {
  "kernelspec": {
   "display_name": "base",
   "language": "python",
   "name": "python3"
  },
  "language_info": {
   "codemirror_mode": {
    "name": "ipython",
    "version": 3
   },
   "file_extension": ".py",
   "mimetype": "text/x-python",
   "name": "python",
   "nbconvert_exporter": "python",
   "pygments_lexer": "ipython3",
   "version": "3.9.13"
  },
  "orig_nbformat": 4
 },
 "nbformat": 4,
 "nbformat_minor": 2
}
