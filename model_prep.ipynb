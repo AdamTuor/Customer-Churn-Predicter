{
 "cells": [
  {
   "cell_type": "code",
   "execution_count": 448,
   "metadata": {},
   "outputs": [],
   "source": [
    "import pandas as pd"
   ]
  },
  {
   "cell_type": "code",
   "execution_count": 449,
   "metadata": {},
   "outputs": [],
   "source": [
    "data = pd.read_csv('Resources/primary_schools.csv')\n",
    "df = pd.DataFrame(data)"
   ]
  },
  {
   "cell_type": "code",
   "execution_count": 450,
   "metadata": {},
   "outputs": [],
   "source": [
    "df = df.drop(columns='Unnamed: 0')"
   ]
  },
  {
   "attachments": {},
   "cell_type": "markdown",
   "metadata": {},
   "source": [
    "Might need to bin these.  Test with all values first"
   ]
  },
  {
   "cell_type": "code",
   "execution_count": 451,
   "metadata": {},
   "outputs": [
    {
     "data": {
      "text/html": [
       "<div>\n",
       "<style scoped>\n",
       "    .dataframe tbody tr th:only-of-type {\n",
       "        vertical-align: middle;\n",
       "    }\n",
       "\n",
       "    .dataframe tbody tr th {\n",
       "        vertical-align: top;\n",
       "    }\n",
       "\n",
       "    .dataframe thead th {\n",
       "        text-align: right;\n",
       "    }\n",
       "</style>\n",
       "<table border=\"1\" class=\"dataframe\">\n",
       "  <thead>\n",
       "    <tr style=\"text-align: right;\">\n",
       "      <th></th>\n",
       "      <th>Board Number</th>\n",
       "      <th>Board Name</th>\n",
       "      <th>Board Type</th>\n",
       "      <th>School Number</th>\n",
       "      <th>School Name</th>\n",
       "      <th>School Type</th>\n",
       "      <th>School Special Condition Code</th>\n",
       "      <th>School Level</th>\n",
       "      <th>School Language</th>\n",
       "      <th>Grade Range</th>\n",
       "      <th>...</th>\n",
       "      <th>Percentage of Grade 6 Students Achieving the Provincial Standard in Reading</th>\n",
       "      <th>Change in Grade 6 Reading Achievement Over Three Years</th>\n",
       "      <th>Percentage of Grade 6 Students Achieving the Provincial Standard in Writing</th>\n",
       "      <th>Change in Grade 6 Writing Achievement Over Three Years</th>\n",
       "      <th>Percentage of Grade 6 Students Achieving the Provincial Standard in Mathematics</th>\n",
       "      <th>Change in Grade 6 Mathematics Achievement Over Three Years</th>\n",
       "      <th>Percentage of School-Aged Children Who Live in Low-Income Households</th>\n",
       "      <th>Percentage of Students Whose Parents Have No Degree, Diploma or Certificate</th>\n",
       "      <th>Extract Date</th>\n",
       "      <th>Year</th>\n",
       "    </tr>\n",
       "  </thead>\n",
       "  <tbody>\n",
       "    <tr>\n",
       "      <th>0</th>\n",
       "      <td>B28010</td>\n",
       "      <td>Algoma DSB</td>\n",
       "      <td>Pub Dist Sch Brd (E/F)</td>\n",
       "      <td>19186</td>\n",
       "      <td>Anna McCrea Public School</td>\n",
       "      <td>Public</td>\n",
       "      <td>Not applicable</td>\n",
       "      <td>Elementary</td>\n",
       "      <td>English</td>\n",
       "      <td>JK-8</td>\n",
       "      <td>...</td>\n",
       "      <td>86%</td>\n",
       "      <td>-14.0</td>\n",
       "      <td>43%</td>\n",
       "      <td>-46.0</td>\n",
       "      <td>36%</td>\n",
       "      <td>-36.0</td>\n",
       "      <td>10</td>\n",
       "      <td>0</td>\n",
       "      <td>2021-10-07 00:00:00</td>\n",
       "      <td>2017</td>\n",
       "    </tr>\n",
       "    <tr>\n",
       "      <th>1</th>\n",
       "      <td>B28010</td>\n",
       "      <td>Algoma DSB</td>\n",
       "      <td>Pub Dist Sch Brd (E/F)</td>\n",
       "      <td>67679</td>\n",
       "      <td>Arthur Henderson Public School</td>\n",
       "      <td>Public</td>\n",
       "      <td>Not applicable</td>\n",
       "      <td>Elementary</td>\n",
       "      <td>English</td>\n",
       "      <td>JK-8</td>\n",
       "      <td>...</td>\n",
       "      <td>N/D</td>\n",
       "      <td>NaN</td>\n",
       "      <td>N/D</td>\n",
       "      <td>NaN</td>\n",
       "      <td>N/D</td>\n",
       "      <td>NaN</td>\n",
       "      <td>30</td>\n",
       "      <td>20</td>\n",
       "      <td>2021-10-07 00:00:00</td>\n",
       "      <td>2017</td>\n",
       "    </tr>\n",
       "    <tr>\n",
       "      <th>2</th>\n",
       "      <td>B28010</td>\n",
       "      <td>Algoma DSB</td>\n",
       "      <td>Pub Dist Sch Brd (E/F)</td>\n",
       "      <td>43362</td>\n",
       "      <td>Ben R McMullin Public School</td>\n",
       "      <td>Public</td>\n",
       "      <td>Not applicable</td>\n",
       "      <td>Elementary</td>\n",
       "      <td>English</td>\n",
       "      <td>JK-8</td>\n",
       "      <td>...</td>\n",
       "      <td>50%</td>\n",
       "      <td>-7.0</td>\n",
       "      <td>42%</td>\n",
       "      <td>-29.0</td>\n",
       "      <td>25%</td>\n",
       "      <td>-4.0</td>\n",
       "      <td>30</td>\n",
       "      <td>10</td>\n",
       "      <td>2021-10-07 00:00:00</td>\n",
       "      <td>2017</td>\n",
       "    </tr>\n",
       "    <tr>\n",
       "      <th>3</th>\n",
       "      <td>B28010</td>\n",
       "      <td>Algoma DSB</td>\n",
       "      <td>Pub Dist Sch Brd (E/F)</td>\n",
       "      <td>54542</td>\n",
       "      <td>Blind River Public School</td>\n",
       "      <td>Public</td>\n",
       "      <td>Not applicable</td>\n",
       "      <td>Elementary</td>\n",
       "      <td>English</td>\n",
       "      <td>JK-8</td>\n",
       "      <td>...</td>\n",
       "      <td>78%</td>\n",
       "      <td>7.0</td>\n",
       "      <td>28%</td>\n",
       "      <td>-43.0</td>\n",
       "      <td>22%</td>\n",
       "      <td>-11.0</td>\n",
       "      <td>25</td>\n",
       "      <td>5</td>\n",
       "      <td>2021-10-07 00:00:00</td>\n",
       "      <td>2017</td>\n",
       "    </tr>\n",
       "    <tr>\n",
       "      <th>4</th>\n",
       "      <td>B28010</td>\n",
       "      <td>Algoma DSB</td>\n",
       "      <td>Pub Dist Sch Brd (E/F)</td>\n",
       "      <td>490822</td>\n",
       "      <td>Boreal French Immersion Public School</td>\n",
       "      <td>Public</td>\n",
       "      <td>Not applicable</td>\n",
       "      <td>Elementary</td>\n",
       "      <td>English</td>\n",
       "      <td>1-8</td>\n",
       "      <td>...</td>\n",
       "      <td>90%</td>\n",
       "      <td>5.0</td>\n",
       "      <td>86%</td>\n",
       "      <td>10.0</td>\n",
       "      <td>71%</td>\n",
       "      <td>5.0</td>\n",
       "      <td>15</td>\n",
       "      <td>0</td>\n",
       "      <td>2021-10-07 00:00:00</td>\n",
       "      <td>2017</td>\n",
       "    </tr>\n",
       "  </tbody>\n",
       "</table>\n",
       "<p>5 rows × 44 columns</p>\n",
       "</div>"
      ],
      "text/plain": [
       "  Board Number  Board Name              Board Type School Number  \\\n",
       "0       B28010  Algoma DSB  Pub Dist Sch Brd (E/F)         19186   \n",
       "1       B28010  Algoma DSB  Pub Dist Sch Brd (E/F)         67679   \n",
       "2       B28010  Algoma DSB  Pub Dist Sch Brd (E/F)         43362   \n",
       "3       B28010  Algoma DSB  Pub Dist Sch Brd (E/F)         54542   \n",
       "4       B28010  Algoma DSB  Pub Dist Sch Brd (E/F)        490822   \n",
       "\n",
       "                             School Name School Type  \\\n",
       "0              Anna McCrea Public School      Public   \n",
       "1         Arthur Henderson Public School      Public   \n",
       "2           Ben R McMullin Public School      Public   \n",
       "3              Blind River Public School      Public   \n",
       "4  Boreal French Immersion Public School      Public   \n",
       "\n",
       "  School Special Condition Code School Level School Language Grade Range  ...  \\\n",
       "0                Not applicable   Elementary         English        JK-8  ...   \n",
       "1                Not applicable   Elementary         English        JK-8  ...   \n",
       "2                Not applicable   Elementary         English        JK-8  ...   \n",
       "3                Not applicable   Elementary         English        JK-8  ...   \n",
       "4                Not applicable   Elementary         English         1-8  ...   \n",
       "\n",
       "  Percentage of Grade 6 Students Achieving the Provincial Standard in Reading  \\\n",
       "0                                                86%                            \n",
       "1                                                N/D                            \n",
       "2                                                50%                            \n",
       "3                                                78%                            \n",
       "4                                                90%                            \n",
       "\n",
       "  Change in Grade 6 Reading Achievement Over Three Years  \\\n",
       "0                                              -14.0       \n",
       "1                                                NaN       \n",
       "2                                               -7.0       \n",
       "3                                                7.0       \n",
       "4                                                5.0       \n",
       "\n",
       "  Percentage of Grade 6 Students Achieving the Provincial Standard in Writing  \\\n",
       "0                                                43%                            \n",
       "1                                                N/D                            \n",
       "2                                                42%                            \n",
       "3                                                28%                            \n",
       "4                                                86%                            \n",
       "\n",
       "  Change in Grade 6 Writing Achievement Over Three Years  \\\n",
       "0                                              -46.0       \n",
       "1                                                NaN       \n",
       "2                                              -29.0       \n",
       "3                                              -43.0       \n",
       "4                                               10.0       \n",
       "\n",
       "  Percentage of Grade 6 Students Achieving the Provincial Standard in Mathematics  \\\n",
       "0                                                36%                                \n",
       "1                                                N/D                                \n",
       "2                                                25%                                \n",
       "3                                                22%                                \n",
       "4                                                71%                                \n",
       "\n",
       "  Change in Grade 6 Mathematics Achievement Over Three Years  \\\n",
       "0                                              -36.0           \n",
       "1                                                NaN           \n",
       "2                                               -4.0           \n",
       "3                                              -11.0           \n",
       "4                                                5.0           \n",
       "\n",
       "  Percentage of School-Aged Children Who Live in Low-Income Households  \\\n",
       "0                                                 10                     \n",
       "1                                                 30                     \n",
       "2                                                 30                     \n",
       "3                                                 25                     \n",
       "4                                                 15                     \n",
       "\n",
       "  Percentage of Students Whose Parents Have No Degree, Diploma or Certificate  \\\n",
       "0                                                  0                            \n",
       "1                                                 20                            \n",
       "2                                                 10                            \n",
       "3                                                  5                            \n",
       "4                                                  0                            \n",
       "\n",
       "          Extract Date  Year  \n",
       "0  2021-10-07 00:00:00  2017  \n",
       "1  2021-10-07 00:00:00  2017  \n",
       "2  2021-10-07 00:00:00  2017  \n",
       "3  2021-10-07 00:00:00  2017  \n",
       "4  2021-10-07 00:00:00  2017  \n",
       "\n",
       "[5 rows x 44 columns]"
      ]
     },
     "execution_count": 451,
     "metadata": {},
     "output_type": "execute_result"
    }
   ],
   "source": [
    "df.head()"
   ]
  },
  {
   "cell_type": "code",
   "execution_count": 452,
   "metadata": {},
   "outputs": [],
   "source": [
    "mask = df.isnull()"
   ]
  },
  {
   "cell_type": "code",
   "execution_count": 453,
   "metadata": {},
   "outputs": [],
   "source": [
    "df_with_nulls = df[mask.any(axis=1)]\n",
    "df_without_nulls = df[~mask.any(axis=1)]"
   ]
  },
  {
   "cell_type": "code",
   "execution_count": 454,
   "metadata": {},
   "outputs": [
    {
     "name": "stdout",
     "output_type": "stream",
     "text": [
      "Empty DataFrame\n",
      "Columns: []\n",
      "Index: []\n"
     ]
    }
   ],
   "source": [
    "correlation_matrix = df[['Percentage of Grade 3 Students Achieving the Provincial Standard in Reading', \n",
    "                         'Percentage of Grade 3 Students Achieving the Provincial Standard in Writing']].corr()\n",
    "\n",
    "print(correlation_matrix)"
   ]
  },
  {
   "cell_type": "code",
   "execution_count": 455,
   "metadata": {},
   "outputs": [
    {
     "data": {
      "text/plain": [
       "Index(['Board Number', 'Board Name', 'Board Type', 'School Number',\n",
       "       'School Name', 'School Type', 'School Special Condition Code',\n",
       "       'School Level', 'School Language', 'Grade Range', 'Street',\n",
       "       'Municipality', 'City', 'Province', 'Postal Code', 'Phone Number',\n",
       "       'Fax Number', 'School Website', 'Board Website', 'Enrolment',\n",
       "       'Latitude', 'Longitude',\n",
       "       'Percentage of Students Whose First Language Is Not English',\n",
       "       'Percentage of Students Whose First Language Is Not French',\n",
       "       'Percentage of Students Who Are New to Canada from a Non-English Speaking Country',\n",
       "       'Percentage of Students Who Are New to Canada from a Non-French Speaking Country',\n",
       "       'Percentage of Students Receiving Special Education Services',\n",
       "       'Percentage of Students Identified as Gifted',\n",
       "       'Percentage of Grade 3 Students Achieving the Provincial Standard in Reading',\n",
       "       'Change in Grade 3 Reading Achievement Over Three Years',\n",
       "       'Percentage of Grade 3 Students Achieving the Provincial Standard in Writing',\n",
       "       'Change in Grade 3 Writing Achievement Over Three Years',\n",
       "       'Percentage of Grade 3 Students Achieving the Provincial Standard in Mathematics',\n",
       "       'Change in Grade 3 Mathematics Achievement Over Three Years',\n",
       "       'Percentage of Grade 6 Students Achieving the Provincial Standard in Reading',\n",
       "       'Change in Grade 6 Reading Achievement Over Three Years',\n",
       "       'Percentage of Grade 6 Students Achieving the Provincial Standard in Writing',\n",
       "       'Change in Grade 6 Writing Achievement Over Three Years',\n",
       "       'Percentage of Grade 6 Students Achieving the Provincial Standard in Mathematics',\n",
       "       'Change in Grade 6 Mathematics Achievement Over Three Years',\n",
       "       'Percentage of School-Aged Children Who Live in Low-Income Households',\n",
       "       'Percentage of Students Whose Parents Have No Degree, Diploma or Certificate',\n",
       "       'Extract Date', 'Year'],\n",
       "      dtype='object')"
      ]
     },
     "execution_count": 455,
     "metadata": {},
     "output_type": "execute_result"
    }
   ],
   "source": [
    "df.columns"
   ]
  },
  {
   "cell_type": "code",
   "execution_count": 456,
   "metadata": {},
   "outputs": [
    {
     "data": {
      "text/plain": [
       "Toronto             1228\n",
       "Mississauga          688\n",
       "Brampton             576\n",
       "Scarborough          550\n",
       "North York           451\n",
       "                    ... \n",
       "Serpent River          3\n",
       "Town of Milton         3\n",
       "Bruce Mines            2\n",
       "Rockton, Ontario       2\n",
       "Cavan monaghan         2\n",
       "Name: City, Length: 722, dtype: int64"
      ]
     },
     "execution_count": 456,
     "metadata": {},
     "output_type": "execute_result"
    }
   ],
   "source": [
    "df['City'].value_counts()"
   ]
  },
  {
   "cell_type": "code",
   "execution_count": 457,
   "metadata": {},
   "outputs": [],
   "source": [
    "primary_filtered = df_without_nulls.drop(columns=['Extract Date','Board Name', 'Board Number','City', 'Postal Code','School Number','School Level','Municipality','School Special Condition Code','Street','Province','Phone Number','Fax Number', 'School Website', 'Board Website'])"
   ]
  },
  {
   "cell_type": "code",
   "execution_count": 458,
   "metadata": {},
   "outputs": [],
   "source": [
    "mask = primary_filtered.isnull()"
   ]
  },
  {
   "cell_type": "code",
   "execution_count": 459,
   "metadata": {},
   "outputs": [],
   "source": [
    "df_with_nulls = primary_filtered[mask.any(axis=1)]\n",
    "primary_filtered = primary_filtered[~mask.any(axis=1)]"
   ]
  },
  {
   "cell_type": "code",
   "execution_count": 460,
   "metadata": {},
   "outputs": [],
   "source": [
    "#columns_to_keep = ['School Type','School Language','Enrolment','Percentage of Students Whose First Language Is Not English','Percentage of Students Whose First Language Is Not French','Percentage of Students Receiving Special Education Services','Percentage of Students Identified as Gifted','Latitude','Longitude','Percentage of School-Aged Children Who Live in Low-Income Households','Percentage of Students Whose Parents Have No Degree, Diploma or Certificate','Year']"
   ]
  },
  {
   "cell_type": "code",
   "execution_count": 461,
   "metadata": {},
   "outputs": [
    {
     "data": {
      "text/plain": [
       "Board Type                                                                           object\n",
       "School Name                                                                          object\n",
       "School Type                                                                          object\n",
       "School Language                                                                      object\n",
       "Grade Range                                                                          object\n",
       "Enrolment                                                                            object\n",
       "Latitude                                                                            float64\n",
       "Longitude                                                                           float64\n",
       "Percentage of Students Whose First Language Is Not English                           object\n",
       "Percentage of Students Whose First Language Is Not French                            object\n",
       "Percentage of Students Who Are New to Canada from a Non-English Speaking Country     object\n",
       "Percentage of Students Who Are New to Canada from a Non-French Speaking Country      object\n",
       "Percentage of Students Receiving Special Education Services                          object\n",
       "Percentage of Students Identified as Gifted                                          object\n",
       "Percentage of Grade 3 Students Achieving the Provincial Standard in Reading          object\n",
       "Change in Grade 3 Reading Achievement Over Three Years                              float64\n",
       "Percentage of Grade 3 Students Achieving the Provincial Standard in Writing          object\n",
       "Change in Grade 3 Writing Achievement Over Three Years                              float64\n",
       "Percentage of Grade 3 Students Achieving the Provincial Standard in Mathematics      object\n",
       "Change in Grade 3 Mathematics Achievement Over Three Years                          float64\n",
       "Percentage of Grade 6 Students Achieving the Provincial Standard in Reading          object\n",
       "Change in Grade 6 Reading Achievement Over Three Years                              float64\n",
       "Percentage of Grade 6 Students Achieving the Provincial Standard in Writing          object\n",
       "Change in Grade 6 Writing Achievement Over Three Years                              float64\n",
       "Percentage of Grade 6 Students Achieving the Provincial Standard in Mathematics      object\n",
       "Change in Grade 6 Mathematics Achievement Over Three Years                          float64\n",
       "Percentage of School-Aged Children Who Live in Low-Income Households                 object\n",
       "Percentage of Students Whose Parents Have No Degree, Diploma or Certificate          object\n",
       "Year                                                                                  int64\n",
       "dtype: object"
      ]
     },
     "execution_count": 461,
     "metadata": {},
     "output_type": "execute_result"
    }
   ],
   "source": [
    "primary_filtered.dtypes"
   ]
  },
  {
   "cell_type": "code",
   "execution_count": 462,
   "metadata": {},
   "outputs": [
    {
     "data": {
      "text/plain": [
       "10509"
      ]
     },
     "execution_count": 462,
     "metadata": {},
     "output_type": "execute_result"
    }
   ],
   "source": [
    "len(primary_filtered)"
   ]
  },
  {
   "cell_type": "code",
   "execution_count": 463,
   "metadata": {},
   "outputs": [
    {
     "data": {
      "text/html": [
       "<div>\n",
       "<style scoped>\n",
       "    .dataframe tbody tr th:only-of-type {\n",
       "        vertical-align: middle;\n",
       "    }\n",
       "\n",
       "    .dataframe tbody tr th {\n",
       "        vertical-align: top;\n",
       "    }\n",
       "\n",
       "    .dataframe thead th {\n",
       "        text-align: right;\n",
       "    }\n",
       "</style>\n",
       "<table border=\"1\" class=\"dataframe\">\n",
       "  <thead>\n",
       "    <tr style=\"text-align: right;\">\n",
       "      <th></th>\n",
       "      <th>Board Type</th>\n",
       "      <th>School Name</th>\n",
       "      <th>School Type</th>\n",
       "      <th>School Language</th>\n",
       "      <th>Grade Range</th>\n",
       "      <th>Enrolment</th>\n",
       "      <th>Latitude</th>\n",
       "      <th>Longitude</th>\n",
       "      <th>Percentage of Students Whose First Language Is Not English</th>\n",
       "      <th>Percentage of Students Whose First Language Is Not French</th>\n",
       "      <th>...</th>\n",
       "      <th>Change in Grade 3 Mathematics Achievement Over Three Years</th>\n",
       "      <th>Percentage of Grade 6 Students Achieving the Provincial Standard in Reading</th>\n",
       "      <th>Change in Grade 6 Reading Achievement Over Three Years</th>\n",
       "      <th>Percentage of Grade 6 Students Achieving the Provincial Standard in Writing</th>\n",
       "      <th>Change in Grade 6 Writing Achievement Over Three Years</th>\n",
       "      <th>Percentage of Grade 6 Students Achieving the Provincial Standard in Mathematics</th>\n",
       "      <th>Change in Grade 6 Mathematics Achievement Over Three Years</th>\n",
       "      <th>Percentage of School-Aged Children Who Live in Low-Income Households</th>\n",
       "      <th>Percentage of Students Whose Parents Have No Degree, Diploma or Certificate</th>\n",
       "      <th>Year</th>\n",
       "    </tr>\n",
       "  </thead>\n",
       "  <tbody>\n",
       "    <tr>\n",
       "      <th>0</th>\n",
       "      <td>Pub Dist Sch Brd (E/F)</td>\n",
       "      <td>Anna McCrea Public School</td>\n",
       "      <td>Public</td>\n",
       "      <td>English</td>\n",
       "      <td>JK-8</td>\n",
       "      <td>180</td>\n",
       "      <td>46.50593</td>\n",
       "      <td>-84.2873</td>\n",
       "      <td>0</td>\n",
       "      <td>100</td>\n",
       "      <td>...</td>\n",
       "      <td>-7.0</td>\n",
       "      <td>86%</td>\n",
       "      <td>-14.0</td>\n",
       "      <td>43%</td>\n",
       "      <td>-46.0</td>\n",
       "      <td>36%</td>\n",
       "      <td>-36.0</td>\n",
       "      <td>10</td>\n",
       "      <td>0</td>\n",
       "      <td>2017</td>\n",
       "    </tr>\n",
       "    <tr>\n",
       "      <th>2</th>\n",
       "      <td>Pub Dist Sch Brd (E/F)</td>\n",
       "      <td>Ben R McMullin Public School</td>\n",
       "      <td>Public</td>\n",
       "      <td>English</td>\n",
       "      <td>JK-8</td>\n",
       "      <td>175</td>\n",
       "      <td>46.52455</td>\n",
       "      <td>-84.2980</td>\n",
       "      <td>5</td>\n",
       "      <td>100</td>\n",
       "      <td>...</td>\n",
       "      <td>-41.0</td>\n",
       "      <td>50%</td>\n",
       "      <td>-7.0</td>\n",
       "      <td>42%</td>\n",
       "      <td>-29.0</td>\n",
       "      <td>25%</td>\n",
       "      <td>-4.0</td>\n",
       "      <td>30</td>\n",
       "      <td>10</td>\n",
       "      <td>2017</td>\n",
       "    </tr>\n",
       "    <tr>\n",
       "      <th>3</th>\n",
       "      <td>Pub Dist Sch Brd (E/F)</td>\n",
       "      <td>Blind River Public School</td>\n",
       "      <td>Public</td>\n",
       "      <td>English</td>\n",
       "      <td>JK-8</td>\n",
       "      <td>150</td>\n",
       "      <td>46.18454</td>\n",
       "      <td>-82.9576</td>\n",
       "      <td>5</td>\n",
       "      <td>100</td>\n",
       "      <td>...</td>\n",
       "      <td>-17.0</td>\n",
       "      <td>78%</td>\n",
       "      <td>7.0</td>\n",
       "      <td>28%</td>\n",
       "      <td>-43.0</td>\n",
       "      <td>22%</td>\n",
       "      <td>-11.0</td>\n",
       "      <td>25</td>\n",
       "      <td>5</td>\n",
       "      <td>2017</td>\n",
       "    </tr>\n",
       "    <tr>\n",
       "      <th>5</th>\n",
       "      <td>Pub Dist Sch Brd (E/F)</td>\n",
       "      <td>Central Algoma Elementary School</td>\n",
       "      <td>Public</td>\n",
       "      <td>English</td>\n",
       "      <td>JK-8</td>\n",
       "      <td>115</td>\n",
       "      <td>46.34875</td>\n",
       "      <td>-83.9253</td>\n",
       "      <td>5</td>\n",
       "      <td>100</td>\n",
       "      <td>...</td>\n",
       "      <td>12.0</td>\n",
       "      <td>80%</td>\n",
       "      <td>-20.0</td>\n",
       "      <td>70%</td>\n",
       "      <td>-3.0</td>\n",
       "      <td>50%</td>\n",
       "      <td>-32.0</td>\n",
       "      <td>30</td>\n",
       "      <td>25</td>\n",
       "      <td>2017</td>\n",
       "    </tr>\n",
       "    <tr>\n",
       "      <th>7</th>\n",
       "      <td>Pub Dist Sch Brd (E/F)</td>\n",
       "      <td>Central Avenue Public School</td>\n",
       "      <td>Public</td>\n",
       "      <td>English</td>\n",
       "      <td>JK-8</td>\n",
       "      <td>275</td>\n",
       "      <td>46.39040</td>\n",
       "      <td>-82.6588</td>\n",
       "      <td>5</td>\n",
       "      <td>95</td>\n",
       "      <td>...</td>\n",
       "      <td>-19.0</td>\n",
       "      <td>42%</td>\n",
       "      <td>-38.0</td>\n",
       "      <td>45%</td>\n",
       "      <td>-22.0</td>\n",
       "      <td>16%</td>\n",
       "      <td>-27.0</td>\n",
       "      <td>30</td>\n",
       "      <td>15</td>\n",
       "      <td>2017</td>\n",
       "    </tr>\n",
       "  </tbody>\n",
       "</table>\n",
       "<p>5 rows × 29 columns</p>\n",
       "</div>"
      ],
      "text/plain": [
       "               Board Type                       School Name School Type  \\\n",
       "0  Pub Dist Sch Brd (E/F)         Anna McCrea Public School      Public   \n",
       "2  Pub Dist Sch Brd (E/F)      Ben R McMullin Public School      Public   \n",
       "3  Pub Dist Sch Brd (E/F)         Blind River Public School      Public   \n",
       "5  Pub Dist Sch Brd (E/F)  Central Algoma Elementary School      Public   \n",
       "7  Pub Dist Sch Brd (E/F)      Central Avenue Public School      Public   \n",
       "\n",
       "  School Language Grade Range Enrolment  Latitude  Longitude  \\\n",
       "0         English        JK-8       180  46.50593   -84.2873   \n",
       "2         English        JK-8       175  46.52455   -84.2980   \n",
       "3         English        JK-8       150  46.18454   -82.9576   \n",
       "5         English        JK-8       115  46.34875   -83.9253   \n",
       "7         English        JK-8       275  46.39040   -82.6588   \n",
       "\n",
       "  Percentage of Students Whose First Language Is Not English  \\\n",
       "0                                                  0           \n",
       "2                                                  5           \n",
       "3                                                  5           \n",
       "5                                                  5           \n",
       "7                                                  5           \n",
       "\n",
       "  Percentage of Students Whose First Language Is Not French  ...  \\\n",
       "0                                                100         ...   \n",
       "2                                                100         ...   \n",
       "3                                                100         ...   \n",
       "5                                                100         ...   \n",
       "7                                                 95         ...   \n",
       "\n",
       "  Change in Grade 3 Mathematics Achievement Over Three Years  \\\n",
       "0                                               -7.0           \n",
       "2                                              -41.0           \n",
       "3                                              -17.0           \n",
       "5                                               12.0           \n",
       "7                                              -19.0           \n",
       "\n",
       "  Percentage of Grade 6 Students Achieving the Provincial Standard in Reading  \\\n",
       "0                                                86%                            \n",
       "2                                                50%                            \n",
       "3                                                78%                            \n",
       "5                                                80%                            \n",
       "7                                                42%                            \n",
       "\n",
       "  Change in Grade 6 Reading Achievement Over Three Years  \\\n",
       "0                                              -14.0       \n",
       "2                                               -7.0       \n",
       "3                                                7.0       \n",
       "5                                              -20.0       \n",
       "7                                              -38.0       \n",
       "\n",
       "  Percentage of Grade 6 Students Achieving the Provincial Standard in Writing  \\\n",
       "0                                                43%                            \n",
       "2                                                42%                            \n",
       "3                                                28%                            \n",
       "5                                                70%                            \n",
       "7                                                45%                            \n",
       "\n",
       "  Change in Grade 6 Writing Achievement Over Three Years  \\\n",
       "0                                              -46.0       \n",
       "2                                              -29.0       \n",
       "3                                              -43.0       \n",
       "5                                               -3.0       \n",
       "7                                              -22.0       \n",
       "\n",
       "   Percentage of Grade 6 Students Achieving the Provincial Standard in Mathematics  \\\n",
       "0                                                36%                                 \n",
       "2                                                25%                                 \n",
       "3                                                22%                                 \n",
       "5                                                50%                                 \n",
       "7                                                16%                                 \n",
       "\n",
       "  Change in Grade 6 Mathematics Achievement Over Three Years  \\\n",
       "0                                              -36.0           \n",
       "2                                               -4.0           \n",
       "3                                              -11.0           \n",
       "5                                              -32.0           \n",
       "7                                              -27.0           \n",
       "\n",
       "   Percentage of School-Aged Children Who Live in Low-Income Households  \\\n",
       "0                                                 10                      \n",
       "2                                                 30                      \n",
       "3                                                 25                      \n",
       "5                                                 30                      \n",
       "7                                                 30                      \n",
       "\n",
       "  Percentage of Students Whose Parents Have No Degree, Diploma or Certificate  \\\n",
       "0                                                  0                            \n",
       "2                                                 10                            \n",
       "3                                                  5                            \n",
       "5                                                 25                            \n",
       "7                                                 15                            \n",
       "\n",
       "   Year  \n",
       "0  2017  \n",
       "2  2017  \n",
       "3  2017  \n",
       "5  2017  \n",
       "7  2017  \n",
       "\n",
       "[5 rows x 29 columns]"
      ]
     },
     "execution_count": 463,
     "metadata": {},
     "output_type": "execute_result"
    }
   ],
   "source": [
    "primary_filtered.head()"
   ]
  },
  {
   "attachments": {},
   "cell_type": "markdown",
   "metadata": {},
   "source": [
    "## Standardize Percentages"
   ]
  },
  {
   "cell_type": "code",
   "execution_count": 464,
   "metadata": {},
   "outputs": [],
   "source": [
    "percentage_columns = ['Percentage of Students Whose First Language Is Not English',\n",
    "                      'Percentage of Students Whose First Language Is Not French',\n",
    "                      'Percentage of Students Who Are New to Canada from a Non-English Speaking Country',\n",
    "                      'Percentage of Students Who Are New to Canada from a Non-French Speaking Country',\n",
    "                      'Percentage of Students Receiving Special Education Services',\n",
    "                      'Percentage of Students Identified as Gifted',\n",
    "                      'Percentage of Grade 3 Students Achieving the Provincial Standard in Reading',\n",
    "                      'Change in Grade 3 Reading Achievement Over Three Years',\n",
    "                      'Percentage of Grade 3 Students Achieving the Provincial Standard in Writing',\n",
    "                      'Change in Grade 3 Writing Achievement Over Three Years',\n",
    "                      'Percentage of Grade 3 Students Achieving the Provincial Standard in Mathematics',\n",
    "                      'Change in Grade 3 Mathematics Achievement Over Three Years',\n",
    "                      'Percentage of Grade 6 Students Achieving the Provincial Standard in Reading',\n",
    "                      'Change in Grade 6 Reading Achievement Over Three Years',\n",
    "                      'Percentage of Grade 6 Students Achieving the Provincial Standard in Writing',\n",
    "                      'Change in Grade 6 Writing Achievement Over Three Years',\n",
    "                      'Percentage of Grade 6 Students Achieving the Provincial Standard in Mathematics',\n",
    "                      'Change in Grade 6 Mathematics Achievement Over Three Years',\n",
    "                      'Percentage of School-Aged Children Who Live in Low-Income Households',\n",
    "                      'Percentage of Students Whose Parents Have No Degree, Diploma or Certificate']"
   ]
  },
  {
   "cell_type": "code",
   "execution_count": 465,
   "metadata": {},
   "outputs": [],
   "source": [
    "# Removing 'SP' values which indicate a small student population which does not report to protect privacy.\n",
    "mask = primary_filtered[percentage_columns].eq('SP').any(axis=1)\n",
    "primary_filtered = primary_filtered[~mask]"
   ]
  },
  {
   "cell_type": "code",
   "execution_count": 466,
   "metadata": {},
   "outputs": [],
   "source": [
    "primary_filtered[percentage_columns] = primary_filtered[percentage_columns].replace('%', '', regex=True).astype(float)"
   ]
  },
  {
   "cell_type": "code",
   "execution_count": 467,
   "metadata": {},
   "outputs": [
    {
     "data": {
      "text/plain": [
       "array([  0.,   5.,  10.,   3.,   2.,  90.,   8.,  40.,   7.,  50.,  30.,\n",
       "        60.,  65.,  73.,  70.,  55.,  45.,  20.,  75.,  35.,  80.,  85.,\n",
       "        89.,  95., 100.,  91.,  78.,  52.,  72.,  44.,  83.,  68.,  61.,\n",
       "        12.,  16.,  15.,  79.,  66.,  62.,  63.,  25.,  23.,   6.,  46.,\n",
       "        29.,  28.,  14.,  26.,  64.,  21.,  19.,   4.,  27.,  38.,  34.,\n",
       "        18.,  13.,   1.,  11.,  99.,  98.,   9.,  17.,  22.,  56.,  47.,\n",
       "        53.,  48.,  49.,  37.,  54.,  39.,  43.,  32.,  36.,  24.,  33.,\n",
       "        76.,  71.,  58.,  74.,  42.,  51.,  86.,  67.,  41.,  31.,  88.,\n",
       "        59.,  93.,  84.,  77.,  57.,  87.,  69.,  92.,  82.,  81.])"
      ]
     },
     "execution_count": 467,
     "metadata": {},
     "output_type": "execute_result"
    }
   ],
   "source": [
    "primary_filtered['Percentage of Students Whose First Language Is Not English'].unique()"
   ]
  },
  {
   "cell_type": "code",
   "execution_count": 468,
   "metadata": {},
   "outputs": [],
   "source": [
    "primary_filtered[percentage_columns] = primary_filtered[percentage_columns].apply(lambda x: x / 100 if x.max() > 1 else x)"
   ]
  },
  {
   "cell_type": "code",
   "execution_count": 469,
   "metadata": {},
   "outputs": [],
   "source": [
    "# Save the school name for later analysis\n",
    "primary_school_names = primary_filtered[['School Name']].copy()\n"
   ]
  },
  {
   "cell_type": "code",
   "execution_count": 470,
   "metadata": {},
   "outputs": [],
   "source": [
    "primary_filtered.drop(columns='School Name',inplace=True)"
   ]
  },
  {
   "cell_type": "code",
   "execution_count": 471,
   "metadata": {},
   "outputs": [
    {
     "name": "stdout",
     "output_type": "stream",
     "text": [
      "                                                    Percentage of Grade 3 Students Achieving the Provincial Standard in Reading  \\\n",
      "Percentage of Grade 3 Students Achieving the Pr...                                           1.000000                             \n",
      "Percentage of Grade 6 Students Achieving the Pr...                                           0.653846                             \n",
      "\n",
      "                                                    Percentage of Grade 6 Students Achieving the Provincial Standard in Reading  \n",
      "Percentage of Grade 3 Students Achieving the Pr...                                           0.653846                            \n",
      "Percentage of Grade 6 Students Achieving the Pr...                                           1.000000                            \n"
     ]
    }
   ],
   "source": [
    "correlation_matrix = primary_filtered[['Percentage of Grade 3 Students Achieving the Provincial Standard in Reading', \n",
    "                         'Percentage of Grade 6 Students Achieving the Provincial Standard in Reading']].corr()\n",
    "\n",
    "print(correlation_matrix)"
   ]
  },
  {
   "attachments": {},
   "cell_type": "markdown",
   "metadata": {},
   "source": [
    "## Splitting into Test/Train data"
   ]
  },
  {
   "cell_type": "code",
   "execution_count": 472,
   "metadata": {},
   "outputs": [],
   "source": [
    "from sklearn.model_selection import train_test_split"
   ]
  },
  {
   "cell_type": "code",
   "execution_count": 473,
   "metadata": {},
   "outputs": [],
   "source": [
    "y = primary_filtered['Percentage of Grade 3 Students Achieving the Provincial Standard in Reading']\n",
    "X = primary_filtered.drop(columns='Percentage of Grade 3 Students Achieving the Provincial Standard in Reading')"
   ]
  },
  {
   "cell_type": "code",
   "execution_count": 474,
   "metadata": {},
   "outputs": [],
   "source": [
    "X_train, X_test, y_train, y_test = train_test_split(X, y, test_size=0.2, random_state=42)"
   ]
  },
  {
   "attachments": {},
   "cell_type": "markdown",
   "metadata": {},
   "source": [
    "## Scaling Data"
   ]
  },
  {
   "cell_type": "code",
   "execution_count": 475,
   "metadata": {},
   "outputs": [],
   "source": [
    "from sklearn.preprocessing import StandardScaler"
   ]
  },
  {
   "cell_type": "code",
   "execution_count": 476,
   "metadata": {},
   "outputs": [],
   "source": [
    "scaler = StandardScaler()\n",
    "scaler.fit(X_train[['Enrolment', 'Latitude', 'Longitude']])\n",
    "X_train[['Enrolment', 'Latitude', 'Longitude']] = scaler.transform(X_train[['Enrolment', 'Latitude', 'Longitude']])\n",
    "X_test[['Enrolment', 'Latitude', 'Longitude']] = scaler.transform(X_test[['Enrolment', 'Latitude', 'Longitude']])"
   ]
  },
  {
   "attachments": {},
   "cell_type": "markdown",
   "metadata": {},
   "source": [
    "## Encoding Categorical Data"
   ]
  },
  {
   "cell_type": "code",
   "execution_count": 477,
   "metadata": {},
   "outputs": [],
   "source": [
    "from sklearn.preprocessing import OneHotEncoder"
   ]
  },
  {
   "cell_type": "code",
   "execution_count": 478,
   "metadata": {},
   "outputs": [],
   "source": [
    "categories = ['Board Type', \n",
    "              'School Type', \n",
    "              'School Language', \n",
    "              'Grade Range']"
   ]
  },
  {
   "cell_type": "code",
   "execution_count": 479,
   "metadata": {},
   "outputs": [],
   "source": [
    "encoder = OneHotEncoder(handle_unknown='ignore')"
   ]
  },
  {
   "cell_type": "code",
   "execution_count": 480,
   "metadata": {},
   "outputs": [],
   "source": [
    "# Fit the encoder and transform the training data\n",
    "categorical_train_data = X_train[categories]\n",
    "encoder.fit(categorical_train_data)\n",
    "encoded_train_data = encoder.transform(categorical_train_data).toarray()"
   ]
  },
  {
   "cell_type": "code",
   "execution_count": 481,
   "metadata": {},
   "outputs": [],
   "source": [
    "# Transform the test data\n",
    "categorical_test_data = X_test[categories]\n",
    "encoded_test_data = encoder.transform(categorical_test_data).toarray()"
   ]
  },
  {
   "cell_type": "code",
   "execution_count": 482,
   "metadata": {},
   "outputs": [],
   "source": [
    "encoded_train_df = pd.DataFrame(encoded_train_data, columns=encoder.get_feature_names_out(categories), index=X_train.index)\n",
    "encoded_test_df = pd.DataFrame(encoded_test_data, columns=encoder.get_feature_names_out(categories), index=X_test.index)"
   ]
  },
  {
   "cell_type": "code",
   "execution_count": 483,
   "metadata": {},
   "outputs": [],
   "source": [
    "# Concatenate the original dataframes with the new ones\n",
    "X_train_encoded = pd.concat([X_train.drop(categories, axis=1), encoded_train_df], axis=1)\n",
    "X_test_encoded = pd.concat([X_test.drop(categories, axis=1), encoded_test_df], axis=1)"
   ]
  },
  {
   "cell_type": "code",
   "execution_count": 484,
   "metadata": {},
   "outputs": [
    {
     "data": {
      "text/html": [
       "<div>\n",
       "<style scoped>\n",
       "    .dataframe tbody tr th:only-of-type {\n",
       "        vertical-align: middle;\n",
       "    }\n",
       "\n",
       "    .dataframe tbody tr th {\n",
       "        vertical-align: top;\n",
       "    }\n",
       "\n",
       "    .dataframe thead th {\n",
       "        text-align: right;\n",
       "    }\n",
       "</style>\n",
       "<table border=\"1\" class=\"dataframe\">\n",
       "  <thead>\n",
       "    <tr style=\"text-align: right;\">\n",
       "      <th></th>\n",
       "      <th>Enrolment</th>\n",
       "      <th>Latitude</th>\n",
       "      <th>Longitude</th>\n",
       "      <th>Percentage of Students Whose First Language Is Not English</th>\n",
       "      <th>Percentage of Students Whose First Language Is Not French</th>\n",
       "      <th>Percentage of Students Who Are New to Canada from a Non-English Speaking Country</th>\n",
       "      <th>Percentage of Students Who Are New to Canada from a Non-French Speaking Country</th>\n",
       "      <th>Percentage of Students Receiving Special Education Services</th>\n",
       "      <th>Percentage of Students Identified as Gifted</th>\n",
       "      <th>Change in Grade 3 Reading Achievement Over Three Years</th>\n",
       "      <th>...</th>\n",
       "      <th>Board Type_Public School Board</th>\n",
       "      <th>School Type_Catholic</th>\n",
       "      <th>School Type_Protestant Separate</th>\n",
       "      <th>School Type_Public</th>\n",
       "      <th>School Language_English</th>\n",
       "      <th>School Language_French</th>\n",
       "      <th>Grade Range_1-8</th>\n",
       "      <th>Grade Range_JK-6</th>\n",
       "      <th>Grade Range_JK-8</th>\n",
       "      <th>Grade Range_K-8</th>\n",
       "    </tr>\n",
       "  </thead>\n",
       "  <tbody>\n",
       "    <tr>\n",
       "      <th>11932</th>\n",
       "      <td>-1.382659</td>\n",
       "      <td>1.907463</td>\n",
       "      <td>-1.830471</td>\n",
       "      <td>0.00</td>\n",
       "      <td>1.00</td>\n",
       "      <td>0.00</td>\n",
       "      <td>0.00</td>\n",
       "      <td>0.15</td>\n",
       "      <td>0.0</td>\n",
       "      <td>0.16</td>\n",
       "      <td>...</td>\n",
       "      <td>0.0</td>\n",
       "      <td>0.0</td>\n",
       "      <td>0.0</td>\n",
       "      <td>1.0</td>\n",
       "      <td>1.0</td>\n",
       "      <td>0.0</td>\n",
       "      <td>0.0</td>\n",
       "      <td>1.0</td>\n",
       "      <td>0.0</td>\n",
       "      <td>0.0</td>\n",
       "    </tr>\n",
       "    <tr>\n",
       "      <th>4005</th>\n",
       "      <td>-1.178163</td>\n",
       "      <td>1.834060</td>\n",
       "      <td>-1.674402</td>\n",
       "      <td>0.00</td>\n",
       "      <td>1.00</td>\n",
       "      <td>0.00</td>\n",
       "      <td>0.00</td>\n",
       "      <td>0.20</td>\n",
       "      <td>0.0</td>\n",
       "      <td>0.06</td>\n",
       "      <td>...</td>\n",
       "      <td>0.0</td>\n",
       "      <td>0.0</td>\n",
       "      <td>0.0</td>\n",
       "      <td>1.0</td>\n",
       "      <td>1.0</td>\n",
       "      <td>0.0</td>\n",
       "      <td>0.0</td>\n",
       "      <td>1.0</td>\n",
       "      <td>0.0</td>\n",
       "      <td>0.0</td>\n",
       "    </tr>\n",
       "    <tr>\n",
       "      <th>5159</th>\n",
       "      <td>2.035338</td>\n",
       "      <td>-0.515767</td>\n",
       "      <td>-0.062672</td>\n",
       "      <td>0.50</td>\n",
       "      <td>0.99</td>\n",
       "      <td>0.11</td>\n",
       "      <td>0.12</td>\n",
       "      <td>0.07</td>\n",
       "      <td>0.0</td>\n",
       "      <td>-0.02</td>\n",
       "      <td>...</td>\n",
       "      <td>0.0</td>\n",
       "      <td>0.0</td>\n",
       "      <td>0.0</td>\n",
       "      <td>1.0</td>\n",
       "      <td>1.0</td>\n",
       "      <td>0.0</td>\n",
       "      <td>0.0</td>\n",
       "      <td>0.0</td>\n",
       "      <td>1.0</td>\n",
       "      <td>0.0</td>\n",
       "    </tr>\n",
       "    <tr>\n",
       "      <th>8232</th>\n",
       "      <td>-1.236590</td>\n",
       "      <td>-0.875836</td>\n",
       "      <td>-1.166401</td>\n",
       "      <td>0.65</td>\n",
       "      <td>0.40</td>\n",
       "      <td>0.05</td>\n",
       "      <td>0.00</td>\n",
       "      <td>0.10</td>\n",
       "      <td>0.0</td>\n",
       "      <td>-0.09</td>\n",
       "      <td>...</td>\n",
       "      <td>0.0</td>\n",
       "      <td>0.0</td>\n",
       "      <td>0.0</td>\n",
       "      <td>1.0</td>\n",
       "      <td>0.0</td>\n",
       "      <td>1.0</td>\n",
       "      <td>0.0</td>\n",
       "      <td>1.0</td>\n",
       "      <td>0.0</td>\n",
       "      <td>0.0</td>\n",
       "    </tr>\n",
       "    <tr>\n",
       "      <th>938</th>\n",
       "      <td>2.473542</td>\n",
       "      <td>-0.091592</td>\n",
       "      <td>0.326115</td>\n",
       "      <td>0.16</td>\n",
       "      <td>1.00</td>\n",
       "      <td>0.03</td>\n",
       "      <td>0.02</td>\n",
       "      <td>0.13</td>\n",
       "      <td>0.0</td>\n",
       "      <td>-0.01</td>\n",
       "      <td>...</td>\n",
       "      <td>0.0</td>\n",
       "      <td>0.0</td>\n",
       "      <td>0.0</td>\n",
       "      <td>1.0</td>\n",
       "      <td>1.0</td>\n",
       "      <td>0.0</td>\n",
       "      <td>0.0</td>\n",
       "      <td>0.0</td>\n",
       "      <td>1.0</td>\n",
       "      <td>0.0</td>\n",
       "    </tr>\n",
       "  </tbody>\n",
       "</table>\n",
       "<p>5 rows × 36 columns</p>\n",
       "</div>"
      ],
      "text/plain": [
       "       Enrolment  Latitude  Longitude  \\\n",
       "11932  -1.382659  1.907463  -1.830471   \n",
       "4005   -1.178163  1.834060  -1.674402   \n",
       "5159    2.035338 -0.515767  -0.062672   \n",
       "8232   -1.236590 -0.875836  -1.166401   \n",
       "938     2.473542 -0.091592   0.326115   \n",
       "\n",
       "       Percentage of Students Whose First Language Is Not English  \\\n",
       "11932                                               0.00            \n",
       "4005                                                0.00            \n",
       "5159                                                0.50            \n",
       "8232                                                0.65            \n",
       "938                                                 0.16            \n",
       "\n",
       "       Percentage of Students Whose First Language Is Not French  \\\n",
       "11932                                               1.00           \n",
       "4005                                                1.00           \n",
       "5159                                                0.99           \n",
       "8232                                                0.40           \n",
       "938                                                 1.00           \n",
       "\n",
       "       Percentage of Students Who Are New to Canada from a Non-English Speaking Country  \\\n",
       "11932                                               0.00                                  \n",
       "4005                                                0.00                                  \n",
       "5159                                                0.11                                  \n",
       "8232                                                0.05                                  \n",
       "938                                                 0.03                                  \n",
       "\n",
       "       Percentage of Students Who Are New to Canada from a Non-French Speaking Country  \\\n",
       "11932                                               0.00                                 \n",
       "4005                                                0.00                                 \n",
       "5159                                                0.12                                 \n",
       "8232                                                0.00                                 \n",
       "938                                                 0.02                                 \n",
       "\n",
       "       Percentage of Students Receiving Special Education Services  \\\n",
       "11932                                               0.15             \n",
       "4005                                                0.20             \n",
       "5159                                                0.07             \n",
       "8232                                                0.10             \n",
       "938                                                 0.13             \n",
       "\n",
       "       Percentage of Students Identified as Gifted  \\\n",
       "11932                                          0.0   \n",
       "4005                                           0.0   \n",
       "5159                                           0.0   \n",
       "8232                                           0.0   \n",
       "938                                            0.0   \n",
       "\n",
       "       Change in Grade 3 Reading Achievement Over Three Years  ...  \\\n",
       "11932                                               0.16       ...   \n",
       "4005                                                0.06       ...   \n",
       "5159                                               -0.02       ...   \n",
       "8232                                               -0.09       ...   \n",
       "938                                                -0.01       ...   \n",
       "\n",
       "       Board Type_Public School Board  School Type_Catholic  \\\n",
       "11932                             0.0                   0.0   \n",
       "4005                              0.0                   0.0   \n",
       "5159                              0.0                   0.0   \n",
       "8232                              0.0                   0.0   \n",
       "938                               0.0                   0.0   \n",
       "\n",
       "       School Type_Protestant Separate  School Type_Public  \\\n",
       "11932                              0.0                 1.0   \n",
       "4005                               0.0                 1.0   \n",
       "5159                               0.0                 1.0   \n",
       "8232                               0.0                 1.0   \n",
       "938                                0.0                 1.0   \n",
       "\n",
       "       School Language_English  School Language_French  Grade Range_1-8  \\\n",
       "11932                      1.0                     0.0              0.0   \n",
       "4005                       1.0                     0.0              0.0   \n",
       "5159                       1.0                     0.0              0.0   \n",
       "8232                       0.0                     1.0              0.0   \n",
       "938                        1.0                     0.0              0.0   \n",
       "\n",
       "       Grade Range_JK-6  Grade Range_JK-8  Grade Range_K-8  \n",
       "11932               1.0               0.0              0.0  \n",
       "4005                1.0               0.0              0.0  \n",
       "5159                0.0               1.0              0.0  \n",
       "8232                1.0               0.0              0.0  \n",
       "938                 0.0               1.0              0.0  \n",
       "\n",
       "[5 rows x 36 columns]"
      ]
     },
     "execution_count": 484,
     "metadata": {},
     "output_type": "execute_result"
    }
   ],
   "source": [
    "X_train_encoded.head()"
   ]
  },
  {
   "attachments": {},
   "cell_type": "markdown",
   "metadata": {},
   "source": [
    "## Model Test: LinearRegression"
   ]
  },
  {
   "cell_type": "code",
   "execution_count": 485,
   "metadata": {},
   "outputs": [],
   "source": [
    "from sklearn.linear_model import LinearRegression\n",
    "from sklearn.metrics import mean_squared_error, r2_score"
   ]
  },
  {
   "cell_type": "code",
   "execution_count": 486,
   "metadata": {},
   "outputs": [],
   "source": [
    "model = LinearRegression()"
   ]
  },
  {
   "cell_type": "code",
   "execution_count": 487,
   "metadata": {},
   "outputs": [
    {
     "data": {
      "text/plain": [
       "LinearRegression()"
      ]
     },
     "execution_count": 487,
     "metadata": {},
     "output_type": "execute_result"
    }
   ],
   "source": [
    "model.fit(X_train_encoded, y_train)"
   ]
  },
  {
   "cell_type": "code",
   "execution_count": 488,
   "metadata": {},
   "outputs": [],
   "source": [
    "y_pred = model.predict(X_test_encoded)"
   ]
  },
  {
   "cell_type": "code",
   "execution_count": 489,
   "metadata": {},
   "outputs": [
    {
     "data": {
      "text/plain": [
       "array([0.7079531 , 0.91128132, 0.8707846 , ..., 0.57488093, 0.85283116,\n",
       "       0.73033043])"
      ]
     },
     "execution_count": 489,
     "metadata": {},
     "output_type": "execute_result"
    }
   ],
   "source": [
    "y_pred"
   ]
  },
  {
   "cell_type": "code",
   "execution_count": 490,
   "metadata": {},
   "outputs": [
    {
     "name": "stdout",
     "output_type": "stream",
     "text": [
      "Mean Squared Error: 0.0031985119092360157\n",
      "Score: 0.8786991848716774\n"
     ]
    }
   ],
   "source": [
    "mse = mean_squared_error(y_test, y_pred)\n",
    "score = model.score(X_test_encoded,y_test)\n",
    "print(f'Mean Squared Error: {mse}\\nScore: {score}')"
   ]
  },
  {
   "cell_type": "code",
   "execution_count": 491,
   "metadata": {},
   "outputs": [],
   "source": [
    "feature_weights = model.coef_"
   ]
  },
  {
   "cell_type": "code",
   "execution_count": 492,
   "metadata": {},
   "outputs": [
    {
     "name": "stdout",
     "output_type": "stream",
     "text": [
      "Enrolment: -0.00010126834292508745\n",
      "Latitude: -0.0012916751967721764\n",
      "Longitude: -0.0007362558670583111\n",
      "Percentage of Students Whose First Language Is Not English: -0.02077265422022788\n",
      "Percentage of Students Whose First Language Is Not French: -0.040788439721531664\n",
      "Percentage of Students Who Are New to Canada from a Non-English Speaking Country: -0.0029198509341105713\n",
      "Percentage of Students Who Are New to Canada from a Non-French Speaking Country: 0.04179432098662632\n",
      "Percentage of Students Receiving Special Education Services: -0.004984755093721199\n",
      "Percentage of Students Identified as Gifted: -0.018258415430583014\n",
      "Change in Grade 3 Reading Achievement Over Three Years: 0.5085464180101159\n",
      "Percentage of Grade 3 Students Achieving the Provincial Standard in Writing: 0.46160047730676695\n",
      "Change in Grade 3 Writing Achievement Over Three Years: -0.24723302008996786\n",
      "Percentage of Grade 3 Students Achieving the Provincial Standard in Mathematics: 0.30207322950957627\n",
      "Change in Grade 3 Mathematics Achievement Over Three Years: -0.1703714342909724\n",
      "Percentage of Grade 6 Students Achieving the Provincial Standard in Reading: 0.24086093789680982\n",
      "Change in Grade 6 Reading Achievement Over Three Years: -0.10007686964921911\n",
      "Percentage of Grade 6 Students Achieving the Provincial Standard in Writing: -0.005826489989559893\n",
      "Change in Grade 6 Writing Achievement Over Three Years: 0.0032617640255269173\n",
      "Percentage of Grade 6 Students Achieving the Provincial Standard in Mathematics: -0.04088978856342539\n",
      "Change in Grade 6 Mathematics Achievement Over Three Years: 0.014626449604760278\n",
      "Percentage of School-Aged Children Who Live in Low-Income Households: 0.003907590730929466\n",
      "Percentage of Students Whose Parents Have No Degree, Diploma or Certificate: -0.07475537539308945\n",
      "Year: 0.005300651257791743\n",
      "Board Type_Cath Dist Sch Brd (E/F): 0.00886624274102999\n",
      "Board Type_Prot Sep Sch Brd (Sch Auth): -0.01761112870386206\n",
      "Board Type_Pub Dist Sch Brd (E/F): 0.008789973243883878\n",
      "Board Type_Public School Board: -4.5087281050802515e-05\n",
      "School Type_Catholic: 0.008866242741029737\n",
      "School Type_Protestant Separate: -0.017611128703862045\n",
      "School Type_Public: 0.008744885962832412\n",
      "School Language_English: 0.004444469092021922\n",
      "School Language_French: -0.004444469092021415\n",
      "Grade Range_1-8: 0.0020838753582239065\n",
      "Grade Range_JK-6: -0.006764698883359944\n",
      "Grade Range_JK-8: -0.012200364687167103\n",
      "Grade Range_K-8: 0.016881188212306796\n"
     ]
    }
   ],
   "source": [
    "for feature, weight in zip(X_train_encoded.columns, feature_weights):\n",
    "    print(f\"{feature}: {weight}\")"
   ]
  },
  {
   "attachments": {},
   "cell_type": "markdown",
   "metadata": {},
   "source": [
    "## Model Test:Neural Network"
   ]
  },
  {
   "cell_type": "code",
   "execution_count": 493,
   "metadata": {},
   "outputs": [],
   "source": [
    "from tensorflow.keras.models import Sequential\n",
    "from tensorflow.keras.layers import Dense"
   ]
  },
  {
   "cell_type": "code",
   "execution_count": 515,
   "metadata": {},
   "outputs": [],
   "source": [
    "model = Sequential()"
   ]
  },
  {
   "cell_type": "code",
   "execution_count": 516,
   "metadata": {},
   "outputs": [
    {
     "name": "stdout",
     "output_type": "stream",
     "text": [
      "Model: \"sequential_11\"\n",
      "_________________________________________________________________\n",
      " Layer (type)                Output Shape              Param #   \n",
      "=================================================================\n",
      " dense_48 (Dense)            (None, 10)                370       \n",
      "                                                                 \n",
      " dense_49 (Dense)            (None, 10)                110       \n",
      "                                                                 \n",
      " dense_50 (Dense)            (None, 5)                 55        \n",
      "                                                                 \n",
      " dense_51 (Dense)            (None, 1)                 6         \n",
      "                                                                 \n",
      "=================================================================\n",
      "Total params: 541\n",
      "Trainable params: 541\n",
      "Non-trainable params: 0\n",
      "_________________________________________________________________\n"
     ]
    }
   ],
   "source": [
    "# Input layer\n",
    "model.add(Dense(units=10, activation='relu', input_shape=(X_train_encoded.shape[1],)))\n",
    "\n",
    "# Hidden layers\n",
    "model.add(Dense(units=10, activation='relu'))\n",
    "model.add(Dense(units=5, activation='relu'))\n",
    "\n",
    "# Output layer\n",
    "model.add(Dense(units=1))\n",
    "model.summary()"
   ]
  },
  {
   "cell_type": "code",
   "execution_count": 517,
   "metadata": {},
   "outputs": [],
   "source": [
    "model.compile(optimizer='adam', loss='mean_squared_error',metrics=[\"accuracy\"])"
   ]
  },
  {
   "cell_type": "code",
   "execution_count": 518,
   "metadata": {},
   "outputs": [
    {
     "name": "stdout",
     "output_type": "stream",
     "text": [
      "Epoch 1/25\n",
      "263/263 [==============================] - 1s 642us/step - loss: 2868.9319 - accuracy: 0.0196\n",
      "Epoch 2/25\n",
      "263/263 [==============================] - 0s 697us/step - loss: 5.0110 - accuracy: 0.0196\n",
      "Epoch 3/25\n",
      "263/263 [==============================] - 0s 647us/step - loss: 0.2076 - accuracy: 0.0196\n",
      "Epoch 4/25\n",
      "263/263 [==============================] - 0s 663us/step - loss: 0.0301 - accuracy: 0.0196\n",
      "Epoch 5/25\n",
      "263/263 [==============================] - 0s 645us/step - loss: 0.0281 - accuracy: 0.0196\n",
      "Epoch 6/25\n",
      "263/263 [==============================] - 0s 636us/step - loss: 0.0281 - accuracy: 0.0196\n",
      "Epoch 7/25\n",
      "263/263 [==============================] - 0s 647us/step - loss: 0.0281 - accuracy: 0.0196\n",
      "Epoch 8/25\n",
      "263/263 [==============================] - 0s 644us/step - loss: 0.0281 - accuracy: 0.0196\n",
      "Epoch 9/25\n",
      "263/263 [==============================] - 0s 683us/step - loss: 0.0281 - accuracy: 0.0196\n",
      "Epoch 10/25\n",
      "263/263 [==============================] - 0s 640us/step - loss: 0.0281 - accuracy: 0.0196\n",
      "Epoch 11/25\n",
      "263/263 [==============================] - 0s 647us/step - loss: 0.0279 - accuracy: 0.0196\n",
      "Epoch 12/25\n",
      "263/263 [==============================] - 0s 701us/step - loss: 0.0278 - accuracy: 0.0196\n",
      "Epoch 13/25\n",
      "263/263 [==============================] - 0s 649us/step - loss: 0.0276 - accuracy: 0.0196\n",
      "Epoch 14/25\n",
      "263/263 [==============================] - 0s 674us/step - loss: 0.0274 - accuracy: 0.0196\n",
      "Epoch 15/25\n",
      "263/263 [==============================] - 0s 651us/step - loss: 0.0271 - accuracy: 0.0196\n",
      "Epoch 16/25\n",
      "263/263 [==============================] - 0s 659us/step - loss: 0.0265 - accuracy: 0.0196\n",
      "Epoch 17/25\n",
      "263/263 [==============================] - 0s 642us/step - loss: 0.0259 - accuracy: 0.0196\n",
      "Epoch 18/25\n",
      "263/263 [==============================] - 0s 632us/step - loss: 0.0248 - accuracy: 0.0196\n",
      "Epoch 19/25\n",
      "263/263 [==============================] - 0s 644us/step - loss: 0.0236 - accuracy: 0.0196\n",
      "Epoch 20/25\n",
      "263/263 [==============================] - 0s 649us/step - loss: 0.0226 - accuracy: 0.0196\n",
      "Epoch 21/25\n",
      "263/263 [==============================] - 0s 712us/step - loss: 0.0216 - accuracy: 0.0196\n",
      "Epoch 22/25\n",
      "263/263 [==============================] - 0s 632us/step - loss: 0.0208 - accuracy: 0.0196\n",
      "Epoch 23/25\n",
      "263/263 [==============================] - 0s 640us/step - loss: 0.0201 - accuracy: 0.0196\n",
      "Epoch 24/25\n",
      "263/263 [==============================] - 0s 649us/step - loss: 0.0192 - accuracy: 0.0199\n",
      "Epoch 25/25\n",
      "263/263 [==============================] - 0s 666us/step - loss: 0.0187 - accuracy: 0.0199\n"
     ]
    },
    {
     "data": {
      "text/plain": [
       "<keras.callbacks.History at 0x2f0240c0430>"
      ]
     },
     "execution_count": 518,
     "metadata": {},
     "output_type": "execute_result"
    }
   ],
   "source": [
    "model.fit(X_train_encoded, y_train, epochs=25, batch_size=32)"
   ]
  },
  {
   "cell_type": "code",
   "execution_count": 519,
   "metadata": {},
   "outputs": [
    {
     "name": "stdout",
     "output_type": "stream",
     "text": [
      "66/66 [==============================] - 0s 598us/step - loss: 0.0158 - accuracy: 0.0209\n",
      "Mean Squared Error: [0.01578289456665516, 0.02093244530260563]\n"
     ]
    }
   ],
   "source": [
    "loss = model.evaluate(X_test_encoded, y_test)\n",
    "print(f\"Mean Squared Error: {loss}\")"
   ]
  },
  {
   "cell_type": "code",
   "execution_count": 520,
   "metadata": {},
   "outputs": [
    {
     "name": "stdout",
     "output_type": "stream",
     "text": [
      "66/66 [==============================] - 0s 537us/step\n"
     ]
    }
   ],
   "source": [
    "y_pred = model.predict(X_test_encoded)"
   ]
  },
  {
   "cell_type": "code",
   "execution_count": 524,
   "metadata": {},
   "outputs": [
    {
     "name": "stderr",
     "output_type": "stream",
     "text": [
      "C:\\Users\\ASROCK Z590M Phantom\\AppData\\Local\\Temp\\ipykernel_10820\\4010892132.py:16: DeprecationWarning: KerasRegressor is deprecated, use Sci-Keras (https://github.com/adriangb/scikeras) instead. See https://www.adriangb.com/scikeras/stable/migration.html for help migrating.\n",
      "  keras_regressor = KerasRegressor(build_fn=create_model, verbose=0)\n"
     ]
    }
   ],
   "source": [
    "from tensorflow.keras.models import Sequential\n",
    "from tensorflow.keras.layers import Dense\n",
    "from sklearn.model_selection import GridSearchCV\n",
    "from tensorflow.keras.wrappers.scikit_learn import KerasRegressor\n",
    "\n",
    "# Define the Keras model function\n",
    "def create_model(hidden_layer_sizes=(64,), learning_rate=0.001, activation='relu'):\n",
    "    model = Sequential()\n",
    "    model.add(Dense(units=hidden_layer_sizes[0], activation=activation, input_shape=(X_train_encoded.shape[1],)))\n",
    "    # Add other layers to the model\n",
    "    model.add(Dense(units=1))\n",
    "    model.compile(optimizer='adam', loss='mean_squared_error')\n",
    "    return model\n",
    "\n",
    "# Create the KerasRegressor\n",
    "keras_regressor = KerasRegressor(build_fn=create_model, verbose=0)\n",
    "\n",
    "# Define the hyperparameter search space\n",
    "param_grid = {\n",
    "    'learning_rate': [0.1, 0.01, 0.001],\n",
    "    'hidden_layer_sizes': [(64,), (128,), (64, 32)],\n",
    "    'activation': ['relu', 'sigmoid'],\n",
    "    # Add other hyperparameters to tune\n",
    "}\n",
    "\n",
    "# Create the GridSearchCV object\n",
    "grid_search = GridSearchCV(estimator=keras_regressor, param_grid=param_grid, cv=5, scoring='neg_mean_squared_error')\n",
    "\n",
    "# Perform the grid search\n",
    "grid_search.fit(X_train_encoded, y_train)\n",
    "\n",
    "# Access the best hyperparameters and model\n",
    "best_params = grid_search.best_params_\n",
    "best_model = grid_search.best_estimator_\n",
    "\n",
    "# Evaluate the best model on the test set\n",
    "test_score = best_model.score(X_test_encoded, y_test)"
   ]
  },
  {
   "cell_type": "code",
   "execution_count": 525,
   "metadata": {},
   "outputs": [
    {
     "name": "stdout",
     "output_type": "stream",
     "text": [
      "Best parameters: {'activation': 'sigmoid', 'hidden_layer_sizes': (64, 32), 'learning_rate': 0.001}\n",
      "Best model:<keras.wrappers.scikit_learn.KerasRegressor object at 0x000002F02B197190>\n",
      "Score:-0.02661639265716076\n"
     ]
    }
   ],
   "source": [
    "# Apparently a negative score, if close to zero, is still good.\n",
    "print(f'Best parameters: {best_params}\\nBest model:{best_model}\\nScore:{test_score}')"
   ]
  },
  {
   "cell_type": "code",
   "execution_count": 528,
   "metadata": {},
   "outputs": [
    {
     "name": "stdout",
     "output_type": "stream",
     "text": [
      "Weights of Layer 1:\n",
      "[[ 0.05111025 -0.21147685  0.17477344 ... -0.01011997 -0.02728735\n",
      "   0.0405551 ]\n",
      " [ 0.13022177 -0.20698088  0.10615887 ...  0.23846449  0.10291187\n",
      "   0.17497258]\n",
      " [ 0.15237705 -0.16107714 -0.04162301 ... -0.15685543 -0.08465567\n",
      "   0.01712836]\n",
      " ...\n",
      " [ 0.19228835  0.05126311  0.12940566 ...  0.0195462  -0.05933765\n",
      "   0.23839085]\n",
      " [-0.20743033 -0.2263005   0.03746088 ... -0.1245929   0.11061706\n",
      "  -0.15999475]\n",
      " [ 0.19868647 -0.14401022  0.00603683 ...  0.14703138  0.17487095\n",
      "   0.20805319]]\n",
      "\n",
      "Weights of Layer 2:\n",
      "[ 0.0000000e+00  0.0000000e+00  0.0000000e+00  0.0000000e+00\n",
      "  0.0000000e+00  0.0000000e+00  0.0000000e+00  0.0000000e+00\n",
      "  3.4130118e-03  0.0000000e+00  0.0000000e+00  0.0000000e+00\n",
      "  0.0000000e+00  0.0000000e+00  0.0000000e+00  0.0000000e+00\n",
      "  5.4524899e-03  0.0000000e+00  0.0000000e+00  0.0000000e+00\n",
      "  0.0000000e+00  0.0000000e+00  0.0000000e+00  0.0000000e+00\n",
      "  0.0000000e+00  0.0000000e+00  0.0000000e+00  0.0000000e+00\n",
      "  0.0000000e+00  0.0000000e+00  0.0000000e+00  0.0000000e+00\n",
      "  0.0000000e+00  0.0000000e+00  0.0000000e+00  0.0000000e+00\n",
      "  0.0000000e+00  0.0000000e+00  2.1560156e-07  0.0000000e+00\n",
      "  0.0000000e+00  0.0000000e+00  9.8961551e-12  0.0000000e+00\n",
      "  0.0000000e+00  0.0000000e+00  0.0000000e+00  0.0000000e+00\n",
      "  0.0000000e+00  0.0000000e+00  0.0000000e+00  0.0000000e+00\n",
      "  0.0000000e+00  0.0000000e+00  0.0000000e+00  0.0000000e+00\n",
      "  0.0000000e+00  0.0000000e+00  0.0000000e+00  0.0000000e+00\n",
      "  0.0000000e+00 -6.6063066e-21  0.0000000e+00  0.0000000e+00]\n",
      "\n",
      "Weights of Layer 3:\n",
      "[[-0.19082972]\n",
      " [ 0.16829921]\n",
      " [ 0.00891639]\n",
      " [-0.09121998]\n",
      " [-0.10598793]\n",
      " [ 0.18030234]\n",
      " [ 0.28331888]\n",
      " [ 0.07891148]\n",
      " [ 0.21632457]\n",
      " [-0.01650413]\n",
      " [ 0.21784674]\n",
      " [-0.2577279 ]\n",
      " [-0.2565833 ]\n",
      " [-0.16521457]\n",
      " [ 0.11980166]\n",
      " [ 0.13434534]\n",
      " [ 0.18980724]\n",
      " [ 0.08787929]\n",
      " [ 0.06145254]\n",
      " [ 0.15000899]\n",
      " [-0.2930343 ]\n",
      " [-0.26143217]\n",
      " [ 0.27403253]\n",
      " [ 0.08138757]\n",
      " [-0.28820646]\n",
      " [-0.14776042]\n",
      " [-0.02070192]\n",
      " [-0.0944489 ]\n",
      " [ 0.16361655]\n",
      " [ 0.10583919]\n",
      " [-0.12207287]\n",
      " [ 0.22238058]\n",
      " [-0.18521072]\n",
      " [-0.06101115]\n",
      " [ 0.21881185]\n",
      " [-0.21393074]\n",
      " [ 0.00572178]\n",
      " [ 0.04054809]\n",
      " [ 0.22597878]\n",
      " [ 0.2365135 ]\n",
      " [ 0.03441927]\n",
      " [-0.08563691]\n",
      " [ 0.13164961]\n",
      " [ 0.08983972]\n",
      " [-0.2553287 ]\n",
      " [-0.21855526]\n",
      " [ 0.1472375 ]\n",
      " [ 0.26352555]\n",
      " [-0.18011966]\n",
      " [ 0.20433831]\n",
      " [ 0.10432631]\n",
      " [-0.09504862]\n",
      " [-0.22137001]\n",
      " [ 0.26993543]\n",
      " [ 0.06970879]\n",
      " [-0.08213785]\n",
      " [ 0.09840041]\n",
      " [ 0.04640706]\n",
      " [ 0.17483172]\n",
      " [-0.24417317]\n",
      " [-0.21297951]\n",
      " [ 0.25048995]\n",
      " [-0.00893419]\n",
      " [ 0.01957612]]\n",
      "\n",
      "Weights of Layer 4:\n",
      "[-1.6654274e-05]\n",
      "\n"
     ]
    }
   ],
   "source": [
    "# No idea what this means, amazing.\n",
    "weights = best_model.model.get_weights()\n",
    "\n",
    "# Print the weights of each layer\n",
    "for i, layer_weights in enumerate(weights):\n",
    "    print(f\"Weights of Layer {i+1}:\")\n",
    "    print(layer_weights)\n",
    "    print()"
   ]
  },
  {
   "cell_type": "code",
   "execution_count": null,
   "metadata": {},
   "outputs": [],
   "source": []
  }
 ],
 "metadata": {
  "kernelspec": {
   "display_name": "base",
   "language": "python",
   "name": "python3"
  },
  "language_info": {
   "codemirror_mode": {
    "name": "ipython",
    "version": 3
   },
   "file_extension": ".py",
   "mimetype": "text/x-python",
   "name": "python",
   "nbconvert_exporter": "python",
   "pygments_lexer": "ipython3",
   "version": "3.9.13"
  },
  "orig_nbformat": 4
 },
 "nbformat": 4,
 "nbformat_minor": 2
}
